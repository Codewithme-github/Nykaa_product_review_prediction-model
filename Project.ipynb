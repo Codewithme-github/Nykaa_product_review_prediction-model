{
 "cells": [
  {
   "cell_type": "code",
   "execution_count": 1,
   "id": "805667b5",
   "metadata": {},
   "outputs": [],
   "source": [
    "import pandas as pd\n",
    "import numpy as np\n",
    "import matplotlib.pyplot as plt\n",
    "import seaborn as sns"
   ]
  },
  {
   "cell_type": "code",
   "execution_count": 2,
   "id": "2d5c4ccc",
   "metadata": {},
   "outputs": [
    {
     "data": {
      "text/html": [
       "<div>\n",
       "<style scoped>\n",
       "    .dataframe tbody tr th:only-of-type {\n",
       "        vertical-align: middle;\n",
       "    }\n",
       "\n",
       "    .dataframe tbody tr th {\n",
       "        vertical-align: top;\n",
       "    }\n",
       "\n",
       "    .dataframe thead th {\n",
       "        text-align: right;\n",
       "    }\n",
       "</style>\n",
       "<table border=\"1\" class=\"dataframe\">\n",
       "  <thead>\n",
       "    <tr style=\"text-align: right;\">\n",
       "      <th></th>\n",
       "      <th>Product Id</th>\n",
       "      <th>Product Brand Code</th>\n",
       "      <th>Retailer</th>\n",
       "      <th>Product Category</th>\n",
       "      <th>Product Brand</th>\n",
       "      <th>Product Name</th>\n",
       "      <th>Product Price</th>\n",
       "      <th>Product Url</th>\n",
       "      <th>Market</th>\n",
       "      <th>Product Description</th>\n",
       "      <th>Product Currency</th>\n",
       "      <th>Product Image Url</th>\n",
       "      <th>Product Tags</th>\n",
       "      <th>Product Contents</th>\n",
       "      <th>Product Rating</th>\n",
       "      <th>Product Reviews Count</th>\n",
       "      <th>Expected Category Count</th>\n",
       "      <th>Expected Brand Count</th>\n",
       "    </tr>\n",
       "  </thead>\n",
       "  <tbody>\n",
       "    <tr>\n",
       "      <th>0</th>\n",
       "      <td>b77f3da33be6e65f6183da6ada8c07ca</td>\n",
       "      <td>BZ1000</td>\n",
       "      <td>nykaa.com</td>\n",
       "      <td>Makeup &gt; Face &gt; Contour</td>\n",
       "      <td>ETUDE HOUSE</td>\n",
       "      <td>ETUDE HOUSE Face Color Shading - 02</td>\n",
       "      <td>600</td>\n",
       "      <td>https://www.nykaa.com/c/p/760922?skuId=760920</td>\n",
       "      <td>IN</td>\n",
       "      <td>Etude House Face Color Shading provides a shad...</td>\n",
       "      <td>INR</td>\n",
       "      <td>https://images-static.nykaa.com/media/catalog/...</td>\n",
       "      <td>ETUDE HOUSE Face Color Shading - 02, Makeup, F...</td>\n",
       "      <td>NaN</td>\n",
       "      <td>4.6</td>\n",
       "      <td>4.0</td>\n",
       "      <td>153</td>\n",
       "      <td>82</td>\n",
       "    </tr>\n",
       "    <tr>\n",
       "      <th>1</th>\n",
       "      <td>f54658c5d511195b6621a640fb743b1b</td>\n",
       "      <td>BH5931</td>\n",
       "      <td>nykaa.com</td>\n",
       "      <td>Brand &gt; L'Oreal Paris</td>\n",
       "      <td>L'Oreal Paris</td>\n",
       "      <td>L'Oreal Paris Glow Mon Amour Highlighting Drop...</td>\n",
       "      <td>454</td>\n",
       "      <td>https://www.nykaa.com/c/p/565974?skuId=565973</td>\n",
       "      <td>IN</td>\n",
       "      <td>It's time to skip the snooze button and get up...</td>\n",
       "      <td>INR</td>\n",
       "      <td>https://images-static.nykaa.com/media/catalog/...</td>\n",
       "      <td>L'Oreal Paris Glow Mon Amour Highlighting Drop...</td>\n",
       "      <td>G927637, Cyclopentasiloxane, Dimethicone, Isod...</td>\n",
       "      <td>4.3</td>\n",
       "      <td>147.0</td>\n",
       "      <td>431</td>\n",
       "      <td>431</td>\n",
       "    </tr>\n",
       "    <tr>\n",
       "      <th>2</th>\n",
       "      <td>cdf6b3387f8976c8e38ad150173dbb6d</td>\n",
       "      <td>BH7276</td>\n",
       "      <td>nykaa.com</td>\n",
       "      <td>Makeup &gt; Face &gt; Foundation</td>\n",
       "      <td>The Body Shop</td>\n",
       "      <td>The Body Shop All-In-One Face Base - 045</td>\n",
       "      <td>1395</td>\n",
       "      <td>https://www.nykaa.com/c/p/31142?skuId=30050</td>\n",
       "      <td>IN</td>\n",
       "      <td>Note: The Body Shop products will be dispatche...</td>\n",
       "      <td>INR</td>\n",
       "      <td>https://images-static.nykaa.com/media/catalog/...</td>\n",
       "      <td>The Body Shop All-In-One Face Base - 045 , Mak...</td>\n",
       "      <td>NaN</td>\n",
       "      <td>4.4</td>\n",
       "      <td>58.0</td>\n",
       "      <td>0</td>\n",
       "      <td>0</td>\n",
       "    </tr>\n",
       "    <tr>\n",
       "      <th>3</th>\n",
       "      <td>424755c11c78b2b24ff13c675baf5d19</td>\n",
       "      <td>BZ1000</td>\n",
       "      <td>nykaa.com</td>\n",
       "      <td>Health &amp; Wellness &gt; Good for You &gt; Super Food</td>\n",
       "      <td>True Elements</td>\n",
       "      <td>True Elements Sunflower Raw Seeds</td>\n",
       "      <td>175</td>\n",
       "      <td>https://www.nykaa.com/c/p/370883?skuId=370881</td>\n",
       "      <td>IN</td>\n",
       "      <td>Sunflower has always been admired for its beau...</td>\n",
       "      <td>INR</td>\n",
       "      <td>https://images-static.nykaa.com/media/catalog/...</td>\n",
       "      <td>True Elements Sunflower Raw Seeds, Wellness, S...</td>\n",
       "      <td>Raw Sunflower Seeds</td>\n",
       "      <td>5</td>\n",
       "      <td>0.0</td>\n",
       "      <td>389</td>\n",
       "      <td>149</td>\n",
       "    </tr>\n",
       "    <tr>\n",
       "      <th>4</th>\n",
       "      <td>f7f76573099db0058ef5264c35d9d02e</td>\n",
       "      <td>BZ1000</td>\n",
       "      <td>nykaa.com</td>\n",
       "      <td>Makeup &gt; Lips &gt; Lip Stain</td>\n",
       "      <td>Nykaa Cosmetics</td>\n",
       "      <td>Nykaa Wonderpuff Cushion Liquid Lipstick - Wer...</td>\n",
       "      <td>539</td>\n",
       "      <td>https://www.nykaa.com/c/p/555315?skuId=555310</td>\n",
       "      <td>IN</td>\n",
       "      <td>It's no secret that a good lippie is a real mo...</td>\n",
       "      <td>INR</td>\n",
       "      <td>https://images-static.nykaa.com/media/catalog/...</td>\n",
       "      <td>NykaaÂ Wonderpuff!Â LipÂ &amp;Â CheekÂ Cushion Lip...</td>\n",
       "      <td>NaN</td>\n",
       "      <td>4</td>\n",
       "      <td>934.0</td>\n",
       "      <td>80</td>\n",
       "      <td>436</td>\n",
       "    </tr>\n",
       "    <tr>\n",
       "      <th>...</th>\n",
       "      <td>...</td>\n",
       "      <td>...</td>\n",
       "      <td>...</td>\n",
       "      <td>...</td>\n",
       "      <td>...</td>\n",
       "      <td>...</td>\n",
       "      <td>...</td>\n",
       "      <td>...</td>\n",
       "      <td>...</td>\n",
       "      <td>...</td>\n",
       "      <td>...</td>\n",
       "      <td>...</td>\n",
       "      <td>...</td>\n",
       "      <td>...</td>\n",
       "      <td>...</td>\n",
       "      <td>...</td>\n",
       "      <td>...</td>\n",
       "      <td>...</td>\n",
       "    </tr>\n",
       "    <tr>\n",
       "      <th>620</th>\n",
       "      <td>f8d07d195abcf8adad9bc744e305876e</td>\n",
       "      <td>BZ1000</td>\n",
       "      <td>nykaa.com</td>\n",
       "      <td>Makeup &gt; Nails &gt; Nail Polish</td>\n",
       "      <td>Orly</td>\n",
       "      <td>Orly Breathable Treatment + Color Nail Lacquer...</td>\n",
       "      <td>1000</td>\n",
       "      <td>https://www.nykaa.com/c/p/188541?skuId=188524</td>\n",
       "      <td>IN</td>\n",
       "      <td>Orly Breathable Treatment + Colour Nail Lacque...</td>\n",
       "      <td>INR</td>\n",
       "      <td>https://images-static.nykaa.com/media/catalog/...</td>\n",
       "      <td>Orly Breathable Treatment + Color Nail Lacquer...</td>\n",
       "      <td>NaN</td>\n",
       "      <td>3.5</td>\n",
       "      <td>2.0</td>\n",
       "      <td>0</td>\n",
       "      <td>0</td>\n",
       "    </tr>\n",
       "    <tr>\n",
       "      <th>621</th>\n",
       "      <td>295daff50e8e854436fc7ea91816590a</td>\n",
       "      <td>BZ1000</td>\n",
       "      <td>nykaa.com</td>\n",
       "      <td>Makeup &gt; Eyes &gt; Under Eye Concealer</td>\n",
       "      <td>BOLLYGLOW</td>\n",
       "      <td>BOLLYGLOW Concealer + Corrector Masala - Cocoa</td>\n",
       "      <td>665</td>\n",
       "      <td>https://www.nykaa.com/c/p/505638?skuId=505635</td>\n",
       "      <td>IN</td>\n",
       "      <td>Have you been waking up with raccoon eyes due ...</td>\n",
       "      <td>INR</td>\n",
       "      <td>https://images-static.nykaa.com/media/catalog/...</td>\n",
       "      <td>BOLLYGLOW Concealer + Corrector Masala - Cocoa...</td>\n",
       "      <td>NaN</td>\n",
       "      <td>3.3</td>\n",
       "      <td>2.0</td>\n",
       "      <td>155</td>\n",
       "      <td>27</td>\n",
       "    </tr>\n",
       "    <tr>\n",
       "      <th>622</th>\n",
       "      <td>42eaf0ea93e25cf422f83cb90be6ef66</td>\n",
       "      <td>BZ1000</td>\n",
       "      <td>nykaa.com</td>\n",
       "      <td>NaN</td>\n",
       "      <td>As-It-Is Nutrition</td>\n",
       "      <td>As-It-Is Nutrition Pure Creatine Monohydrate</td>\n",
       "      <td>389</td>\n",
       "      <td>https://www.nykaa.com/c/p/315757?skuId=315755</td>\n",
       "      <td>IN</td>\n",
       "      <td>AS-IT-IS Nutrition Pure Creatine Monohydrate i...</td>\n",
       "      <td>INR</td>\n",
       "      <td>https://images-static.nykaa.com/media/catalog/...</td>\n",
       "      <td>As-It-Is Nutrition Pure Creatine Monohydrate, ...</td>\n",
       "      <td>Creatine</td>\n",
       "      <td>NaN</td>\n",
       "      <td>NaN</td>\n",
       "      <td>0</td>\n",
       "      <td>0</td>\n",
       "    </tr>\n",
       "    <tr>\n",
       "      <th>623</th>\n",
       "      <td>43a298f6fb694f35826da3b2fe726168</td>\n",
       "      <td>BZ1000</td>\n",
       "      <td>nykaa.com</td>\n",
       "      <td>Makeup &gt; Makeup Kits &gt; Eye Palettes</td>\n",
       "      <td>L.A. Girl</td>\n",
       "      <td>L.A. Girl Eye Lux Mesmerizing Eyeshadow - Trop...</td>\n",
       "      <td>675</td>\n",
       "      <td>https://www.nykaa.com/c/p/158753?skuId=158760</td>\n",
       "      <td>IN</td>\n",
       "      <td>L.A Girl introduces a luxurious, long wearing ...</td>\n",
       "      <td>INR</td>\n",
       "      <td>https://images-static.nykaa.com/media/catalog/...</td>\n",
       "      <td>L.A. Girl Eye Lux Mesmerizing Eyeshadow - Trop...</td>\n",
       "      <td>NaN</td>\n",
       "      <td>4.3</td>\n",
       "      <td>110.0</td>\n",
       "      <td>0</td>\n",
       "      <td>0</td>\n",
       "    </tr>\n",
       "    <tr>\n",
       "      <th>624</th>\n",
       "      <td>3a5247720e93fd276bd6a797adf7629b</td>\n",
       "      <td>BZ1000</td>\n",
       "      <td>nykaa.com</td>\n",
       "      <td>Makeup &gt; Makeup Kits &gt; Customize Your Palette</td>\n",
       "      <td>M.A.C</td>\n",
       "      <td>M.A.C Veluxe Pearl Eye Shadow (Pro Palette Ref...</td>\n",
       "      <td>1100</td>\n",
       "      <td>https://www.nykaa.com/c/p/90778?skuId=90762</td>\n",
       "      <td>IN</td>\n",
       "      <td>Highly pigmented powder. Applies evenly, blend...</td>\n",
       "      <td>INR</td>\n",
       "      <td>https://images-static.nykaa.com/media/catalog/...</td>\n",
       "      <td>M.A.C Veluxe Pearl Eye Shadow (Pro Palette Ref...</td>\n",
       "      <td>NaN</td>\n",
       "      <td>4.9</td>\n",
       "      <td>12.0</td>\n",
       "      <td>0</td>\n",
       "      <td>0</td>\n",
       "    </tr>\n",
       "  </tbody>\n",
       "</table>\n",
       "<p>625 rows × 18 columns</p>\n",
       "</div>"
      ],
      "text/plain": [
       "                           Product Id Product Brand Code   Retailer  \\\n",
       "0    b77f3da33be6e65f6183da6ada8c07ca             BZ1000  nykaa.com   \n",
       "1    f54658c5d511195b6621a640fb743b1b             BH5931  nykaa.com   \n",
       "2    cdf6b3387f8976c8e38ad150173dbb6d             BH7276  nykaa.com   \n",
       "3    424755c11c78b2b24ff13c675baf5d19             BZ1000  nykaa.com   \n",
       "4    f7f76573099db0058ef5264c35d9d02e             BZ1000  nykaa.com   \n",
       "..                                ...                ...        ...   \n",
       "620  f8d07d195abcf8adad9bc744e305876e             BZ1000  nykaa.com   \n",
       "621  295daff50e8e854436fc7ea91816590a             BZ1000  nykaa.com   \n",
       "622  42eaf0ea93e25cf422f83cb90be6ef66             BZ1000  nykaa.com   \n",
       "623  43a298f6fb694f35826da3b2fe726168             BZ1000  nykaa.com   \n",
       "624  3a5247720e93fd276bd6a797adf7629b             BZ1000  nykaa.com   \n",
       "\n",
       "                                  Product Category       Product Brand  \\\n",
       "0                          Makeup > Face > Contour         ETUDE HOUSE   \n",
       "1                            Brand > L'Oreal Paris       L'Oreal Paris   \n",
       "2                       Makeup > Face > Foundation       The Body Shop   \n",
       "3    Health & Wellness > Good for You > Super Food       True Elements   \n",
       "4                        Makeup > Lips > Lip Stain     Nykaa Cosmetics   \n",
       "..                                             ...                 ...   \n",
       "620                   Makeup > Nails > Nail Polish                Orly   \n",
       "621            Makeup > Eyes > Under Eye Concealer           BOLLYGLOW   \n",
       "622                                            NaN  As-It-Is Nutrition   \n",
       "623            Makeup > Makeup Kits > Eye Palettes           L.A. Girl   \n",
       "624  Makeup > Makeup Kits > Customize Your Palette               M.A.C   \n",
       "\n",
       "                                          Product Name Product Price  \\\n",
       "0                  ETUDE HOUSE Face Color Shading - 02           600   \n",
       "1    L'Oreal Paris Glow Mon Amour Highlighting Drop...           454   \n",
       "2             The Body Shop All-In-One Face Base - 045          1395   \n",
       "3                    True Elements Sunflower Raw Seeds           175   \n",
       "4    Nykaa Wonderpuff Cushion Liquid Lipstick - Wer...           539   \n",
       "..                                                 ...           ...   \n",
       "620  Orly Breathable Treatment + Color Nail Lacquer...          1000   \n",
       "621     BOLLYGLOW Concealer + Corrector Masala - Cocoa           665   \n",
       "622       As-It-Is Nutrition Pure Creatine Monohydrate           389   \n",
       "623  L.A. Girl Eye Lux Mesmerizing Eyeshadow - Trop...           675   \n",
       "624  M.A.C Veluxe Pearl Eye Shadow (Pro Palette Ref...          1100   \n",
       "\n",
       "                                       Product Url Market  \\\n",
       "0    https://www.nykaa.com/c/p/760922?skuId=760920     IN   \n",
       "1    https://www.nykaa.com/c/p/565974?skuId=565973     IN   \n",
       "2      https://www.nykaa.com/c/p/31142?skuId=30050     IN   \n",
       "3    https://www.nykaa.com/c/p/370883?skuId=370881     IN   \n",
       "4    https://www.nykaa.com/c/p/555315?skuId=555310     IN   \n",
       "..                                             ...    ...   \n",
       "620  https://www.nykaa.com/c/p/188541?skuId=188524     IN   \n",
       "621  https://www.nykaa.com/c/p/505638?skuId=505635     IN   \n",
       "622  https://www.nykaa.com/c/p/315757?skuId=315755     IN   \n",
       "623  https://www.nykaa.com/c/p/158753?skuId=158760     IN   \n",
       "624    https://www.nykaa.com/c/p/90778?skuId=90762     IN   \n",
       "\n",
       "                                   Product Description Product Currency  \\\n",
       "0    Etude House Face Color Shading provides a shad...              INR   \n",
       "1    It's time to skip the snooze button and get up...              INR   \n",
       "2    Note: The Body Shop products will be dispatche...              INR   \n",
       "3    Sunflower has always been admired for its beau...              INR   \n",
       "4    It's no secret that a good lippie is a real mo...              INR   \n",
       "..                                                 ...              ...   \n",
       "620  Orly Breathable Treatment + Colour Nail Lacque...              INR   \n",
       "621  Have you been waking up with raccoon eyes due ...              INR   \n",
       "622  AS-IT-IS Nutrition Pure Creatine Monohydrate i...              INR   \n",
       "623  L.A Girl introduces a luxurious, long wearing ...              INR   \n",
       "624  Highly pigmented powder. Applies evenly, blend...              INR   \n",
       "\n",
       "                                     Product Image Url  \\\n",
       "0    https://images-static.nykaa.com/media/catalog/...   \n",
       "1    https://images-static.nykaa.com/media/catalog/...   \n",
       "2    https://images-static.nykaa.com/media/catalog/...   \n",
       "3    https://images-static.nykaa.com/media/catalog/...   \n",
       "4    https://images-static.nykaa.com/media/catalog/...   \n",
       "..                                                 ...   \n",
       "620  https://images-static.nykaa.com/media/catalog/...   \n",
       "621  https://images-static.nykaa.com/media/catalog/...   \n",
       "622  https://images-static.nykaa.com/media/catalog/...   \n",
       "623  https://images-static.nykaa.com/media/catalog/...   \n",
       "624  https://images-static.nykaa.com/media/catalog/...   \n",
       "\n",
       "                                          Product Tags  \\\n",
       "0    ETUDE HOUSE Face Color Shading - 02, Makeup, F...   \n",
       "1    L'Oreal Paris Glow Mon Amour Highlighting Drop...   \n",
       "2    The Body Shop All-In-One Face Base - 045 , Mak...   \n",
       "3    True Elements Sunflower Raw Seeds, Wellness, S...   \n",
       "4    NykaaÂ Wonderpuff!Â LipÂ &Â CheekÂ Cushion Lip...   \n",
       "..                                                 ...   \n",
       "620  Orly Breathable Treatment + Color Nail Lacquer...   \n",
       "621  BOLLYGLOW Concealer + Corrector Masala - Cocoa...   \n",
       "622  As-It-Is Nutrition Pure Creatine Monohydrate, ...   \n",
       "623  L.A. Girl Eye Lux Mesmerizing Eyeshadow - Trop...   \n",
       "624  M.A.C Veluxe Pearl Eye Shadow (Pro Palette Ref...   \n",
       "\n",
       "                                      Product Contents Product Rating  \\\n",
       "0                                                  NaN            4.6   \n",
       "1    G927637, Cyclopentasiloxane, Dimethicone, Isod...            4.3   \n",
       "2                                                  NaN            4.4   \n",
       "3                                  Raw Sunflower Seeds              5   \n",
       "4                                                  NaN              4   \n",
       "..                                                 ...            ...   \n",
       "620                                                NaN            3.5   \n",
       "621                                                NaN            3.3   \n",
       "622                                           Creatine            NaN   \n",
       "623                                                NaN            4.3   \n",
       "624                                                NaN            4.9   \n",
       "\n",
       "     Product Reviews Count Expected Category Count  Expected Brand Count  \n",
       "0                      4.0                     153                    82  \n",
       "1                    147.0                     431                   431  \n",
       "2                     58.0                       0                     0  \n",
       "3                      0.0                     389                   149  \n",
       "4                    934.0                      80                   436  \n",
       "..                     ...                     ...                   ...  \n",
       "620                    2.0                       0                     0  \n",
       "621                    2.0                     155                    27  \n",
       "622                    NaN                       0                     0  \n",
       "623                  110.0                       0                     0  \n",
       "624                   12.0                       0                     0  \n",
       "\n",
       "[625 rows x 18 columns]"
      ]
     },
     "execution_count": 2,
     "metadata": {},
     "output_type": "execute_result"
    }
   ],
   "source": [
    "data = pd.read_csv(\"Nykaa_product.csv\")\n",
    "data"
   ]
  },
  {
   "cell_type": "code",
   "execution_count": 3,
   "id": "4828bba3",
   "metadata": {},
   "outputs": [
    {
     "data": {
      "text/plain": [
       "Product Id                   0\n",
       "Product Brand Code           0\n",
       "Retailer                     0\n",
       "Product Category            81\n",
       "Product Brand                0\n",
       "Product Name                 0\n",
       "Product Price                0\n",
       "Product Url                 15\n",
       "Market                       0\n",
       "Product Description          0\n",
       "Product Currency             0\n",
       "Product Image Url            0\n",
       "Product Tags                15\n",
       "Product Contents           301\n",
       "Product Rating              69\n",
       "Product Reviews Count       62\n",
       "Expected Category Count      0\n",
       "Expected Brand Count         0\n",
       "dtype: int64"
      ]
     },
     "execution_count": 3,
     "metadata": {},
     "output_type": "execute_result"
    }
   ],
   "source": [
    "data.isnull().sum()"
   ]
  },
  {
   "cell_type": "code",
   "execution_count": 4,
   "id": "139c6cb4",
   "metadata": {},
   "outputs": [
    {
     "data": {
      "text/html": [
       "<div>\n",
       "<style scoped>\n",
       "    .dataframe tbody tr th:only-of-type {\n",
       "        vertical-align: middle;\n",
       "    }\n",
       "\n",
       "    .dataframe tbody tr th {\n",
       "        vertical-align: top;\n",
       "    }\n",
       "\n",
       "    .dataframe thead th {\n",
       "        text-align: right;\n",
       "    }\n",
       "</style>\n",
       "<table border=\"1\" class=\"dataframe\">\n",
       "  <thead>\n",
       "    <tr style=\"text-align: right;\">\n",
       "      <th></th>\n",
       "      <th>Product Id</th>\n",
       "      <th>Product Brand Code</th>\n",
       "      <th>Retailer</th>\n",
       "      <th>Product Category</th>\n",
       "      <th>Product Brand</th>\n",
       "      <th>Product Name</th>\n",
       "      <th>Product Price</th>\n",
       "      <th>Product Url</th>\n",
       "      <th>Market</th>\n",
       "      <th>Product Description</th>\n",
       "      <th>Product Currency</th>\n",
       "      <th>Product Image Url</th>\n",
       "      <th>Product Tags</th>\n",
       "      <th>Product Contents</th>\n",
       "      <th>Product Rating</th>\n",
       "      <th>Product Reviews Count</th>\n",
       "      <th>Expected Category Count</th>\n",
       "      <th>Expected Brand Count</th>\n",
       "    </tr>\n",
       "  </thead>\n",
       "  <tbody>\n",
       "    <tr>\n",
       "      <th>1</th>\n",
       "      <td>f54658c5d511195b6621a640fb743b1b</td>\n",
       "      <td>BH5931</td>\n",
       "      <td>nykaa.com</td>\n",
       "      <td>Brand &gt; L'Oreal Paris</td>\n",
       "      <td>L'Oreal Paris</td>\n",
       "      <td>L'Oreal Paris Glow Mon Amour Highlighting Drop...</td>\n",
       "      <td>454</td>\n",
       "      <td>https://www.nykaa.com/c/p/565974?skuId=565973</td>\n",
       "      <td>IN</td>\n",
       "      <td>It's time to skip the snooze button and get up...</td>\n",
       "      <td>INR</td>\n",
       "      <td>https://images-static.nykaa.com/media/catalog/...</td>\n",
       "      <td>L'Oreal Paris Glow Mon Amour Highlighting Drop...</td>\n",
       "      <td>G927637, Cyclopentasiloxane, Dimethicone, Isod...</td>\n",
       "      <td>4.3</td>\n",
       "      <td>147.0</td>\n",
       "      <td>431</td>\n",
       "      <td>431</td>\n",
       "    </tr>\n",
       "    <tr>\n",
       "      <th>3</th>\n",
       "      <td>424755c11c78b2b24ff13c675baf5d19</td>\n",
       "      <td>BZ1000</td>\n",
       "      <td>nykaa.com</td>\n",
       "      <td>Health &amp; Wellness &gt; Good for You &gt; Super Food</td>\n",
       "      <td>True Elements</td>\n",
       "      <td>True Elements Sunflower Raw Seeds</td>\n",
       "      <td>175</td>\n",
       "      <td>https://www.nykaa.com/c/p/370883?skuId=370881</td>\n",
       "      <td>IN</td>\n",
       "      <td>Sunflower has always been admired for its beau...</td>\n",
       "      <td>INR</td>\n",
       "      <td>https://images-static.nykaa.com/media/catalog/...</td>\n",
       "      <td>True Elements Sunflower Raw Seeds, Wellness, S...</td>\n",
       "      <td>Raw Sunflower Seeds</td>\n",
       "      <td>5</td>\n",
       "      <td>0.0</td>\n",
       "      <td>389</td>\n",
       "      <td>149</td>\n",
       "    </tr>\n",
       "    <tr>\n",
       "      <th>6</th>\n",
       "      <td>e22a7ea6c594e3e52a4dbe1eb04fd7a3</td>\n",
       "      <td>BH5825</td>\n",
       "      <td>nykaa.com</td>\n",
       "      <td>Brand &gt; Nivea</td>\n",
       "      <td>Nivea</td>\n",
       "      <td>NIVEA Body Lotion Oil in Lotion Rose &amp; Argan O...</td>\n",
       "      <td>260</td>\n",
       "      <td>https://www.nykaa.com/c/p/353370?skuId=353368</td>\n",
       "      <td>IN</td>\n",
       "      <td>Indulge in the goodness of natural oils in a f...</td>\n",
       "      <td>INR</td>\n",
       "      <td>https://images-static.nykaa.com/media/catalog/...</td>\n",
       "      <td>Nivea Oil In Lotion Rose &amp; Argan Oil, Skin, Bo...</td>\n",
       "      <td>Aqua, Glycerin, Dicaprylyl Ether, Alcohol Dena...</td>\n",
       "      <td>4.5</td>\n",
       "      <td>1220.0</td>\n",
       "      <td>160</td>\n",
       "      <td>160</td>\n",
       "    </tr>\n",
       "    <tr>\n",
       "      <th>7</th>\n",
       "      <td>20532c740b21fcecfeecebc2ad1c5a8d</td>\n",
       "      <td>BZ1000</td>\n",
       "      <td>nykaa.com</td>\n",
       "      <td>Natural &gt; Skin &gt; Face Wash</td>\n",
       "      <td>Lotus Herbals</td>\n",
       "      <td>Lotus Herbals Whiteglow Activated Charcoal Bri...</td>\n",
       "      <td>140</td>\n",
       "      <td>https://www.nykaa.com/c/p/811670?skuId=811668</td>\n",
       "      <td>IN</td>\n",
       "      <td>Lotus Herbals WhiteGlow Activated Charcoal Bri...</td>\n",
       "      <td>INR</td>\n",
       "      <td>https://images-static.nykaa.com/media/catalog/...</td>\n",
       "      <td>Lotus Herbals Whiteglow Activated Charcoal Bri...</td>\n",
       "      <td>Key Ingredients:Activated Charcoal (Coconut Sh...</td>\n",
       "      <td>4.2</td>\n",
       "      <td>8.0</td>\n",
       "      <td>922</td>\n",
       "      <td>274</td>\n",
       "    </tr>\n",
       "    <tr>\n",
       "      <th>11</th>\n",
       "      <td>3cef574c3a1f4f9c4a01ca889e46a5c9</td>\n",
       "      <td>BZ1000</td>\n",
       "      <td>nykaa.com</td>\n",
       "      <td>Makeup &gt; Face &gt; Concealer</td>\n",
       "      <td>Smashbox</td>\n",
       "      <td>Smashbox Color Correcting Stick - Look Less Ti...</td>\n",
       "      <td>2090</td>\n",
       "      <td>https://www.nykaa.com/c/p/178990?skuId=178992</td>\n",
       "      <td>IN</td>\n",
       "      <td>These creamy, color-correcting sticks camoufla...</td>\n",
       "      <td>INR</td>\n",
       "      <td>https://images-static.nykaa.com/media/catalog/...</td>\n",
       "      <td>Smashbox Color Correcting Stick - Look Less Ti...</td>\n",
       "      <td>Formulated without parabens, sodium lauryl sul...</td>\n",
       "      <td>4.1</td>\n",
       "      <td>13.0</td>\n",
       "      <td>258</td>\n",
       "      <td>143</td>\n",
       "    </tr>\n",
       "    <tr>\n",
       "      <th>...</th>\n",
       "      <td>...</td>\n",
       "      <td>...</td>\n",
       "      <td>...</td>\n",
       "      <td>...</td>\n",
       "      <td>...</td>\n",
       "      <td>...</td>\n",
       "      <td>...</td>\n",
       "      <td>...</td>\n",
       "      <td>...</td>\n",
       "      <td>...</td>\n",
       "      <td>...</td>\n",
       "      <td>...</td>\n",
       "      <td>...</td>\n",
       "      <td>...</td>\n",
       "      <td>...</td>\n",
       "      <td>...</td>\n",
       "      <td>...</td>\n",
       "      <td>...</td>\n",
       "    </tr>\n",
       "    <tr>\n",
       "      <th>612</th>\n",
       "      <td>4452adf35cb307a3a0b6a8a0da2e65fa</td>\n",
       "      <td>BZ1000</td>\n",
       "      <td>nykaa.com</td>\n",
       "      <td>Natural &gt; Skin &gt; Cleanser</td>\n",
       "      <td>VLCC</td>\n",
       "      <td>VLCC Insta Glow Oxygen Bleach</td>\n",
       "      <td>99</td>\n",
       "      <td>https://www.nykaa.com/c/p/16999?skuId=17017</td>\n",
       "      <td>IN</td>\n",
       "      <td>Add some instant glow to dull, tired and lifel...</td>\n",
       "      <td>INR</td>\n",
       "      <td>https://images-static.nykaa.com/media/catalog/...</td>\n",
       "      <td>VLCC Insta Glow Bleach Pack , Buy VLCC Insta G...</td>\n",
       "      <td>Bleach Cream: Hydrogen Peroxide, Polyquaterniu...</td>\n",
       "      <td>4.2</td>\n",
       "      <td>242.0</td>\n",
       "      <td>830</td>\n",
       "      <td>0</td>\n",
       "    </tr>\n",
       "    <tr>\n",
       "      <th>613</th>\n",
       "      <td>f2a499d73cb52218b1886280d3b5bfb5</td>\n",
       "      <td>BH6967</td>\n",
       "      <td>nykaa.com</td>\n",
       "      <td>Personal Care &gt; Bath &amp; Shower &gt; Shampoo</td>\n",
       "      <td>Matrix</td>\n",
       "      <td>Matrix Biolage Colorlast Color Protecting Shampoo</td>\n",
       "      <td>205</td>\n",
       "      <td>https://www.nykaa.com/c/p/14522?skuId=14519</td>\n",
       "      <td>IN</td>\n",
       "      <td>Forget about de-saturated color. Matrix Biolag...</td>\n",
       "      <td>INR</td>\n",
       "      <td>https://images-static.nykaa.com/media/catalog/...</td>\n",
       "      <td>Matrix Biolage Colorlast Color Protecting Sham...</td>\n",
       "      <td>Aqua/Water, Sodium Laureth Sulfate, Sodium Lau...</td>\n",
       "      <td>4.3</td>\n",
       "      <td>130.0</td>\n",
       "      <td>1545</td>\n",
       "      <td>27</td>\n",
       "    </tr>\n",
       "    <tr>\n",
       "      <th>615</th>\n",
       "      <td>9f0f38d25dc18f93a15796c74afabb95</td>\n",
       "      <td>BZ1000</td>\n",
       "      <td>nykaa.com</td>\n",
       "      <td>Skin &gt; Body Care &gt; Lotions &amp; Creams</td>\n",
       "      <td>VLCC</td>\n",
       "      <td>VLCC Spf 30 Pa+++ Cocoa Butter Detan Glow Body...</td>\n",
       "      <td>399</td>\n",
       "      <td>https://www.nykaa.com/c/p/366296?skuId=366294</td>\n",
       "      <td>IN</td>\n",
       "      <td>VLCC Cocoa Butter Detan Glow is enriched with ...</td>\n",
       "      <td>INR</td>\n",
       "      <td>https://images-static.nykaa.com/media/catalog/...</td>\n",
       "      <td>VLCC Spf 30 Pa+++ Cocoa Butter Detan Glow Body...</td>\n",
       "      <td>Cocoa Butter, Avocado oil, Shea</td>\n",
       "      <td>4.2</td>\n",
       "      <td>25.0</td>\n",
       "      <td>1148</td>\n",
       "      <td>211</td>\n",
       "    </tr>\n",
       "    <tr>\n",
       "      <th>616</th>\n",
       "      <td>62a68cd49e6b8474d041884a2f2e4283</td>\n",
       "      <td>BZ1000</td>\n",
       "      <td>nykaa.com</td>\n",
       "      <td>Makeup &gt; Face &gt; Foundation</td>\n",
       "      <td>Physicians Formula</td>\n",
       "      <td>Physicians Formula The Healthy Foundation SPF ...</td>\n",
       "      <td>1200</td>\n",
       "      <td>https://www.nykaa.com/c/p/529262?skuId=529259</td>\n",
       "      <td>IN</td>\n",
       "      <td>What It Is: A long-wearing, buildable, and bre...</td>\n",
       "      <td>INR</td>\n",
       "      <td>https://images-static.nykaa.com/media/catalog/...</td>\n",
       "      <td>Physicians Formula The Healthy Foundation SPF ...</td>\n",
       "      <td>Active Ingredients: Octinoxate 3%Inactive Ingr...</td>\n",
       "      <td>4.6</td>\n",
       "      <td>19.0</td>\n",
       "      <td>0</td>\n",
       "      <td>0</td>\n",
       "    </tr>\n",
       "    <tr>\n",
       "      <th>618</th>\n",
       "      <td>fe19790da9d93ff9f431a4b56320f3b4</td>\n",
       "      <td>BZ1000</td>\n",
       "      <td>nykaa.com</td>\n",
       "      <td>Natural &gt; Types of Skin &gt; Combination Skin</td>\n",
       "      <td>Jovees</td>\n",
       "      <td>Jovees Fairness Lotion Water Resistant Sun Scr...</td>\n",
       "      <td>274</td>\n",
       "      <td>https://www.nykaa.com/c/p/392340?skuId=392339</td>\n",
       "      <td>IN</td>\n",
       "      <td>Jovees Sunscreen Fairness Lotion SPF 25 is a w...</td>\n",
       "      <td>INR</td>\n",
       "      <td>https://images-static.nykaa.com/media/catalog/...</td>\n",
       "      <td>Jovees Fairness Lotion Water Resistant Sun Scr...</td>\n",
       "      <td>Aloe Vera, Chamomile ext., Carrot ext., Liquor...</td>\n",
       "      <td>4.5</td>\n",
       "      <td>29.0</td>\n",
       "      <td>1840</td>\n",
       "      <td>0</td>\n",
       "    </tr>\n",
       "  </tbody>\n",
       "</table>\n",
       "<p>253 rows × 18 columns</p>\n",
       "</div>"
      ],
      "text/plain": [
       "                           Product Id Product Brand Code   Retailer  \\\n",
       "1    f54658c5d511195b6621a640fb743b1b             BH5931  nykaa.com   \n",
       "3    424755c11c78b2b24ff13c675baf5d19             BZ1000  nykaa.com   \n",
       "6    e22a7ea6c594e3e52a4dbe1eb04fd7a3             BH5825  nykaa.com   \n",
       "7    20532c740b21fcecfeecebc2ad1c5a8d             BZ1000  nykaa.com   \n",
       "11   3cef574c3a1f4f9c4a01ca889e46a5c9             BZ1000  nykaa.com   \n",
       "..                                ...                ...        ...   \n",
       "612  4452adf35cb307a3a0b6a8a0da2e65fa             BZ1000  nykaa.com   \n",
       "613  f2a499d73cb52218b1886280d3b5bfb5             BH6967  nykaa.com   \n",
       "615  9f0f38d25dc18f93a15796c74afabb95             BZ1000  nykaa.com   \n",
       "616  62a68cd49e6b8474d041884a2f2e4283             BZ1000  nykaa.com   \n",
       "618  fe19790da9d93ff9f431a4b56320f3b4             BZ1000  nykaa.com   \n",
       "\n",
       "                                  Product Category       Product Brand  \\\n",
       "1                            Brand > L'Oreal Paris       L'Oreal Paris   \n",
       "3    Health & Wellness > Good for You > Super Food       True Elements   \n",
       "6                                    Brand > Nivea               Nivea   \n",
       "7                       Natural > Skin > Face Wash       Lotus Herbals   \n",
       "11                       Makeup > Face > Concealer            Smashbox   \n",
       "..                                             ...                 ...   \n",
       "612                      Natural > Skin > Cleanser                VLCC   \n",
       "613        Personal Care > Bath & Shower > Shampoo              Matrix   \n",
       "615            Skin > Body Care > Lotions & Creams                VLCC   \n",
       "616                     Makeup > Face > Foundation  Physicians Formula   \n",
       "618     Natural > Types of Skin > Combination Skin              Jovees   \n",
       "\n",
       "                                          Product Name Product Price  \\\n",
       "1    L'Oreal Paris Glow Mon Amour Highlighting Drop...           454   \n",
       "3                    True Elements Sunflower Raw Seeds           175   \n",
       "6    NIVEA Body Lotion Oil in Lotion Rose & Argan O...           260   \n",
       "7    Lotus Herbals Whiteglow Activated Charcoal Bri...           140   \n",
       "11   Smashbox Color Correcting Stick - Look Less Ti...          2090   \n",
       "..                                                 ...           ...   \n",
       "612                      VLCC Insta Glow Oxygen Bleach            99   \n",
       "613  Matrix Biolage Colorlast Color Protecting Shampoo           205   \n",
       "615  VLCC Spf 30 Pa+++ Cocoa Butter Detan Glow Body...           399   \n",
       "616  Physicians Formula The Healthy Foundation SPF ...          1200   \n",
       "618  Jovees Fairness Lotion Water Resistant Sun Scr...           274   \n",
       "\n",
       "                                       Product Url Market  \\\n",
       "1    https://www.nykaa.com/c/p/565974?skuId=565973     IN   \n",
       "3    https://www.nykaa.com/c/p/370883?skuId=370881     IN   \n",
       "6    https://www.nykaa.com/c/p/353370?skuId=353368     IN   \n",
       "7    https://www.nykaa.com/c/p/811670?skuId=811668     IN   \n",
       "11   https://www.nykaa.com/c/p/178990?skuId=178992     IN   \n",
       "..                                             ...    ...   \n",
       "612    https://www.nykaa.com/c/p/16999?skuId=17017     IN   \n",
       "613    https://www.nykaa.com/c/p/14522?skuId=14519     IN   \n",
       "615  https://www.nykaa.com/c/p/366296?skuId=366294     IN   \n",
       "616  https://www.nykaa.com/c/p/529262?skuId=529259     IN   \n",
       "618  https://www.nykaa.com/c/p/392340?skuId=392339     IN   \n",
       "\n",
       "                                   Product Description Product Currency  \\\n",
       "1    It's time to skip the snooze button and get up...              INR   \n",
       "3    Sunflower has always been admired for its beau...              INR   \n",
       "6    Indulge in the goodness of natural oils in a f...              INR   \n",
       "7    Lotus Herbals WhiteGlow Activated Charcoal Bri...              INR   \n",
       "11   These creamy, color-correcting sticks camoufla...              INR   \n",
       "..                                                 ...              ...   \n",
       "612  Add some instant glow to dull, tired and lifel...              INR   \n",
       "613  Forget about de-saturated color. Matrix Biolag...              INR   \n",
       "615  VLCC Cocoa Butter Detan Glow is enriched with ...              INR   \n",
       "616  What It Is: A long-wearing, buildable, and bre...              INR   \n",
       "618  Jovees Sunscreen Fairness Lotion SPF 25 is a w...              INR   \n",
       "\n",
       "                                     Product Image Url  \\\n",
       "1    https://images-static.nykaa.com/media/catalog/...   \n",
       "3    https://images-static.nykaa.com/media/catalog/...   \n",
       "6    https://images-static.nykaa.com/media/catalog/...   \n",
       "7    https://images-static.nykaa.com/media/catalog/...   \n",
       "11   https://images-static.nykaa.com/media/catalog/...   \n",
       "..                                                 ...   \n",
       "612  https://images-static.nykaa.com/media/catalog/...   \n",
       "613  https://images-static.nykaa.com/media/catalog/...   \n",
       "615  https://images-static.nykaa.com/media/catalog/...   \n",
       "616  https://images-static.nykaa.com/media/catalog/...   \n",
       "618  https://images-static.nykaa.com/media/catalog/...   \n",
       "\n",
       "                                          Product Tags  \\\n",
       "1    L'Oreal Paris Glow Mon Amour Highlighting Drop...   \n",
       "3    True Elements Sunflower Raw Seeds, Wellness, S...   \n",
       "6    Nivea Oil In Lotion Rose & Argan Oil, Skin, Bo...   \n",
       "7    Lotus Herbals Whiteglow Activated Charcoal Bri...   \n",
       "11   Smashbox Color Correcting Stick - Look Less Ti...   \n",
       "..                                                 ...   \n",
       "612  VLCC Insta Glow Bleach Pack , Buy VLCC Insta G...   \n",
       "613  Matrix Biolage Colorlast Color Protecting Sham...   \n",
       "615  VLCC Spf 30 Pa+++ Cocoa Butter Detan Glow Body...   \n",
       "616  Physicians Formula The Healthy Foundation SPF ...   \n",
       "618  Jovees Fairness Lotion Water Resistant Sun Scr...   \n",
       "\n",
       "                                      Product Contents Product Rating  \\\n",
       "1    G927637, Cyclopentasiloxane, Dimethicone, Isod...            4.3   \n",
       "3                                  Raw Sunflower Seeds              5   \n",
       "6    Aqua, Glycerin, Dicaprylyl Ether, Alcohol Dena...            4.5   \n",
       "7    Key Ingredients:Activated Charcoal (Coconut Sh...            4.2   \n",
       "11   Formulated without parabens, sodium lauryl sul...            4.1   \n",
       "..                                                 ...            ...   \n",
       "612  Bleach Cream: Hydrogen Peroxide, Polyquaterniu...            4.2   \n",
       "613  Aqua/Water, Sodium Laureth Sulfate, Sodium Lau...            4.3   \n",
       "615                    Cocoa Butter, Avocado oil, Shea            4.2   \n",
       "616  Active Ingredients: Octinoxate 3%Inactive Ingr...            4.6   \n",
       "618  Aloe Vera, Chamomile ext., Carrot ext., Liquor...            4.5   \n",
       "\n",
       "     Product Reviews Count Expected Category Count  Expected Brand Count  \n",
       "1                    147.0                     431                   431  \n",
       "3                      0.0                     389                   149  \n",
       "6                   1220.0                     160                   160  \n",
       "7                      8.0                     922                   274  \n",
       "11                    13.0                     258                   143  \n",
       "..                     ...                     ...                   ...  \n",
       "612                  242.0                     830                     0  \n",
       "613                  130.0                    1545                    27  \n",
       "615                   25.0                    1148                   211  \n",
       "616                   19.0                       0                     0  \n",
       "618                   29.0                    1840                     0  \n",
       "\n",
       "[253 rows x 18 columns]"
      ]
     },
     "execution_count": 4,
     "metadata": {},
     "output_type": "execute_result"
    }
   ],
   "source": [
    "data = data.dropna()\n",
    "data"
   ]
  },
  {
   "cell_type": "code",
   "execution_count": 5,
   "id": "7b5800d6",
   "metadata": {},
   "outputs": [
    {
     "data": {
      "text/plain": [
       "Product Id                 0\n",
       "Product Brand Code         0\n",
       "Retailer                   0\n",
       "Product Category           0\n",
       "Product Brand              0\n",
       "Product Name               0\n",
       "Product Price              0\n",
       "Product Url                0\n",
       "Market                     0\n",
       "Product Description        0\n",
       "Product Currency           0\n",
       "Product Image Url          0\n",
       "Product Tags               0\n",
       "Product Contents           0\n",
       "Product Rating             0\n",
       "Product Reviews Count      0\n",
       "Expected Category Count    0\n",
       "Expected Brand Count       0\n",
       "dtype: int64"
      ]
     },
     "execution_count": 5,
     "metadata": {},
     "output_type": "execute_result"
    }
   ],
   "source": [
    "data.isnull().sum()"
   ]
  },
  {
   "cell_type": "code",
   "execution_count": 6,
   "id": "b7e3ea5d",
   "metadata": {},
   "outputs": [
    {
     "name": "stdout",
     "output_type": "stream",
     "text": [
      "<class 'pandas.core.frame.DataFrame'>\n",
      "Int64Index: 253 entries, 1 to 618\n",
      "Data columns (total 18 columns):\n",
      " #   Column                   Non-Null Count  Dtype  \n",
      "---  ------                   --------------  -----  \n",
      " 0   Product Id               253 non-null    object \n",
      " 1   Product Brand Code       253 non-null    object \n",
      " 2   Retailer                 253 non-null    object \n",
      " 3   Product Category         253 non-null    object \n",
      " 4   Product Brand            253 non-null    object \n",
      " 5   Product Name             253 non-null    object \n",
      " 6   Product Price            253 non-null    object \n",
      " 7   Product Url              253 non-null    object \n",
      " 8   Market                   253 non-null    object \n",
      " 9   Product Description      253 non-null    object \n",
      " 10  Product Currency         253 non-null    object \n",
      " 11  Product Image Url        253 non-null    object \n",
      " 12  Product Tags             253 non-null    object \n",
      " 13  Product Contents         253 non-null    object \n",
      " 14  Product Rating           253 non-null    object \n",
      " 15  Product Reviews Count    253 non-null    float64\n",
      " 16  Expected Category Count  253 non-null    object \n",
      " 17  Expected Brand Count     253 non-null    int64  \n",
      "dtypes: float64(1), int64(1), object(16)\n",
      "memory usage: 37.6+ KB\n"
     ]
    }
   ],
   "source": [
    "data.info()"
   ]
  },
  {
   "cell_type": "code",
   "execution_count": 7,
   "id": "b7d61ab4",
   "metadata": {},
   "outputs": [
    {
     "data": {
      "text/plain": [
       "(253, 18)"
      ]
     },
     "execution_count": 7,
     "metadata": {},
     "output_type": "execute_result"
    }
   ],
   "source": [
    "data.shape"
   ]
  },
  {
   "cell_type": "code",
   "execution_count": 8,
   "id": "6fd730a5",
   "metadata": {},
   "outputs": [
    {
     "data": {
      "text/html": [
       "<div>\n",
       "<style scoped>\n",
       "    .dataframe tbody tr th:only-of-type {\n",
       "        vertical-align: middle;\n",
       "    }\n",
       "\n",
       "    .dataframe tbody tr th {\n",
       "        vertical-align: top;\n",
       "    }\n",
       "\n",
       "    .dataframe thead th {\n",
       "        text-align: right;\n",
       "    }\n",
       "</style>\n",
       "<table border=\"1\" class=\"dataframe\">\n",
       "  <thead>\n",
       "    <tr style=\"text-align: right;\">\n",
       "      <th></th>\n",
       "      <th>Product Reviews Count</th>\n",
       "      <th>Expected Brand Count</th>\n",
       "    </tr>\n",
       "  </thead>\n",
       "  <tbody>\n",
       "    <tr>\n",
       "      <th>count</th>\n",
       "      <td>253.000000</td>\n",
       "      <td>253.000000</td>\n",
       "    </tr>\n",
       "    <tr>\n",
       "      <th>mean</th>\n",
       "      <td>329.920949</td>\n",
       "      <td>90.300395</td>\n",
       "    </tr>\n",
       "    <tr>\n",
       "      <th>std</th>\n",
       "      <td>1147.486720</td>\n",
       "      <td>181.304961</td>\n",
       "    </tr>\n",
       "    <tr>\n",
       "      <th>min</th>\n",
       "      <td>0.000000</td>\n",
       "      <td>0.000000</td>\n",
       "    </tr>\n",
       "    <tr>\n",
       "      <th>25%</th>\n",
       "      <td>3.000000</td>\n",
       "      <td>0.000000</td>\n",
       "    </tr>\n",
       "    <tr>\n",
       "      <th>50%</th>\n",
       "      <td>19.000000</td>\n",
       "      <td>15.000000</td>\n",
       "    </tr>\n",
       "    <tr>\n",
       "      <th>75%</th>\n",
       "      <td>92.000000</td>\n",
       "      <td>114.000000</td>\n",
       "    </tr>\n",
       "    <tr>\n",
       "      <th>max</th>\n",
       "      <td>8513.000000</td>\n",
       "      <td>1512.000000</td>\n",
       "    </tr>\n",
       "  </tbody>\n",
       "</table>\n",
       "</div>"
      ],
      "text/plain": [
       "       Product Reviews Count  Expected Brand Count\n",
       "count             253.000000            253.000000\n",
       "mean              329.920949             90.300395\n",
       "std              1147.486720            181.304961\n",
       "min                 0.000000              0.000000\n",
       "25%                 3.000000              0.000000\n",
       "50%                19.000000             15.000000\n",
       "75%                92.000000            114.000000\n",
       "max              8513.000000           1512.000000"
      ]
     },
     "execution_count": 8,
     "metadata": {},
     "output_type": "execute_result"
    }
   ],
   "source": [
    "data.describe()"
   ]
  },
  {
   "cell_type": "code",
   "execution_count": 9,
   "id": "36256664",
   "metadata": {
    "scrolled": true
   },
   "outputs": [
    {
     "name": "stderr",
     "output_type": "stream",
     "text": [
      "C:\\Users\\J.P.Monpara\\AppData\\Local\\Temp\\ipykernel_12724\\3133385233.py:2: SettingWithCopyWarning: \n",
      "A value is trying to be set on a copy of a slice from a DataFrame\n",
      "\n",
      "See the caveats in the documentation: https://pandas.pydata.org/pandas-docs/stable/user_guide/indexing.html#returning-a-view-versus-a-copy\n",
      "  details.dropna(inplace=True)\n"
     ]
    },
    {
     "data": {
      "text/html": [
       "<div>\n",
       "<style scoped>\n",
       "    .dataframe tbody tr th:only-of-type {\n",
       "        vertical-align: middle;\n",
       "    }\n",
       "\n",
       "    .dataframe tbody tr th {\n",
       "        vertical-align: top;\n",
       "    }\n",
       "\n",
       "    .dataframe thead th {\n",
       "        text-align: right;\n",
       "    }\n",
       "</style>\n",
       "<table border=\"1\" class=\"dataframe\">\n",
       "  <thead>\n",
       "    <tr style=\"text-align: right;\">\n",
       "      <th></th>\n",
       "      <th>Product Brand</th>\n",
       "      <th>Product Category</th>\n",
       "      <th>Product Description</th>\n",
       "      <th>Product Price</th>\n",
       "      <th>Product Reviews Count</th>\n",
       "      <th>Product Rating</th>\n",
       "    </tr>\n",
       "  </thead>\n",
       "  <tbody>\n",
       "    <tr>\n",
       "      <th>1</th>\n",
       "      <td>L'Oreal Paris</td>\n",
       "      <td>Brand &gt; L'Oreal Paris</td>\n",
       "      <td>It's time to skip the snooze button and get up...</td>\n",
       "      <td>454</td>\n",
       "      <td>147.0</td>\n",
       "      <td>4.3</td>\n",
       "    </tr>\n",
       "    <tr>\n",
       "      <th>3</th>\n",
       "      <td>True Elements</td>\n",
       "      <td>Health &amp; Wellness &gt; Good for You &gt; Super Food</td>\n",
       "      <td>Sunflower has always been admired for its beau...</td>\n",
       "      <td>175</td>\n",
       "      <td>0.0</td>\n",
       "      <td>5</td>\n",
       "    </tr>\n",
       "    <tr>\n",
       "      <th>6</th>\n",
       "      <td>Nivea</td>\n",
       "      <td>Brand &gt; Nivea</td>\n",
       "      <td>Indulge in the goodness of natural oils in a f...</td>\n",
       "      <td>260</td>\n",
       "      <td>1220.0</td>\n",
       "      <td>4.5</td>\n",
       "    </tr>\n",
       "    <tr>\n",
       "      <th>7</th>\n",
       "      <td>Lotus Herbals</td>\n",
       "      <td>Natural &gt; Skin &gt; Face Wash</td>\n",
       "      <td>Lotus Herbals WhiteGlow Activated Charcoal Bri...</td>\n",
       "      <td>140</td>\n",
       "      <td>8.0</td>\n",
       "      <td>4.2</td>\n",
       "    </tr>\n",
       "    <tr>\n",
       "      <th>11</th>\n",
       "      <td>Smashbox</td>\n",
       "      <td>Makeup &gt; Face &gt; Concealer</td>\n",
       "      <td>These creamy, color-correcting sticks camoufla...</td>\n",
       "      <td>2090</td>\n",
       "      <td>13.0</td>\n",
       "      <td>4.1</td>\n",
       "    </tr>\n",
       "    <tr>\n",
       "      <th>13</th>\n",
       "      <td>Vaseline</td>\n",
       "      <td>Skin &gt; Body Care &gt; Lotions &amp; Creams</td>\n",
       "      <td>Explore the entire range of Lotions &amp; Creams a...</td>\n",
       "      <td>210</td>\n",
       "      <td>136.0</td>\n",
       "      <td>4.3</td>\n",
       "    </tr>\n",
       "    <tr>\n",
       "      <th>14</th>\n",
       "      <td>Lime Crime</td>\n",
       "      <td>Makeup &gt; Lips &gt; Liquid Lipstick</td>\n",
       "      <td>Inspired by the â€˜bloomâ€™ of rose petals, Li...</td>\n",
       "      <td>1900</td>\n",
       "      <td>65.0</td>\n",
       "      <td>4.6</td>\n",
       "    </tr>\n",
       "    <tr>\n",
       "      <th>16</th>\n",
       "      <td>Bobbi Brown</td>\n",
       "      <td>NFBA 2020 Nominees Online Sale</td>\n",
       "      <td>What it is:Â The look of a liquid lipstick mee...</td>\n",
       "      <td>1800</td>\n",
       "      <td>522.0</td>\n",
       "      <td>4.1</td>\n",
       "    </tr>\n",
       "    <tr>\n",
       "      <th>17</th>\n",
       "      <td>The Body Care</td>\n",
       "      <td>Natural &gt; Combos @ Nykaa</td>\n",
       "      <td>The Body Care Herbal Shampoo is enriched with ...</td>\n",
       "      <td>161</td>\n",
       "      <td>6.0</td>\n",
       "      <td>4.1</td>\n",
       "    </tr>\n",
       "    <tr>\n",
       "      <th>18</th>\n",
       "      <td>CADIVEU</td>\n",
       "      <td>Hair &gt; Shop By Concern &gt; Dry &amp; Frizzy Hair</td>\n",
       "      <td>Cadiveu Professional Brasil Cacau Brazilian Th...</td>\n",
       "      <td>7000</td>\n",
       "      <td>2.0</td>\n",
       "      <td>4.3</td>\n",
       "    </tr>\n",
       "  </tbody>\n",
       "</table>\n",
       "</div>"
      ],
      "text/plain": [
       "    Product Brand                               Product Category  \\\n",
       "1   L'Oreal Paris                          Brand > L'Oreal Paris   \n",
       "3   True Elements  Health & Wellness > Good for You > Super Food   \n",
       "6           Nivea                                  Brand > Nivea   \n",
       "7   Lotus Herbals                     Natural > Skin > Face Wash   \n",
       "11       Smashbox                      Makeup > Face > Concealer   \n",
       "13       Vaseline            Skin > Body Care > Lotions & Creams   \n",
       "14     Lime Crime                Makeup > Lips > Liquid Lipstick   \n",
       "16    Bobbi Brown                 NFBA 2020 Nominees Online Sale   \n",
       "17  The Body Care                       Natural > Combos @ Nykaa   \n",
       "18        CADIVEU     Hair > Shop By Concern > Dry & Frizzy Hair   \n",
       "\n",
       "                                  Product Description Product Price  \\\n",
       "1   It's time to skip the snooze button and get up...           454   \n",
       "3   Sunflower has always been admired for its beau...           175   \n",
       "6   Indulge in the goodness of natural oils in a f...           260   \n",
       "7   Lotus Herbals WhiteGlow Activated Charcoal Bri...           140   \n",
       "11  These creamy, color-correcting sticks camoufla...          2090   \n",
       "13  Explore the entire range of Lotions & Creams a...           210   \n",
       "14  Inspired by the â€˜bloomâ€™ of rose petals, Li...          1900   \n",
       "16  What it is:Â The look of a liquid lipstick mee...          1800   \n",
       "17  The Body Care Herbal Shampoo is enriched with ...           161   \n",
       "18  Cadiveu Professional Brasil Cacau Brazilian Th...          7000   \n",
       "\n",
       "    Product Reviews Count Product Rating  \n",
       "1                   147.0            4.3  \n",
       "3                     0.0              5  \n",
       "6                  1220.0            4.5  \n",
       "7                     8.0            4.2  \n",
       "11                   13.0            4.1  \n",
       "13                  136.0            4.3  \n",
       "14                   65.0            4.6  \n",
       "16                  522.0            4.1  \n",
       "17                    6.0            4.1  \n",
       "18                    2.0            4.3  "
      ]
     },
     "execution_count": 9,
     "metadata": {},
     "output_type": "execute_result"
    }
   ],
   "source": [
    "details = data[['Product Brand', 'Product Category','Product Description', 'Product Price', 'Product Reviews Count', 'Product Rating']]\n",
    "details.dropna(inplace=True)\n",
    "details.head(10)"
   ]
  },
  {
   "cell_type": "code",
   "execution_count": 10,
   "id": "0756e494",
   "metadata": {},
   "outputs": [
    {
     "data": {
      "text/html": [
       "<div>\n",
       "<style scoped>\n",
       "    .dataframe tbody tr th:only-of-type {\n",
       "        vertical-align: middle;\n",
       "    }\n",
       "\n",
       "    .dataframe tbody tr th {\n",
       "        vertical-align: top;\n",
       "    }\n",
       "\n",
       "    .dataframe thead th {\n",
       "        text-align: right;\n",
       "    }\n",
       "</style>\n",
       "<table border=\"1\" class=\"dataframe\">\n",
       "  <thead>\n",
       "    <tr style=\"text-align: right;\">\n",
       "      <th></th>\n",
       "      <th>Product Reviews Count</th>\n",
       "    </tr>\n",
       "  </thead>\n",
       "  <tbody>\n",
       "    <tr>\n",
       "      <th>count</th>\n",
       "      <td>253.000000</td>\n",
       "    </tr>\n",
       "    <tr>\n",
       "      <th>mean</th>\n",
       "      <td>329.920949</td>\n",
       "    </tr>\n",
       "    <tr>\n",
       "      <th>std</th>\n",
       "      <td>1147.486720</td>\n",
       "    </tr>\n",
       "    <tr>\n",
       "      <th>min</th>\n",
       "      <td>0.000000</td>\n",
       "    </tr>\n",
       "    <tr>\n",
       "      <th>25%</th>\n",
       "      <td>3.000000</td>\n",
       "    </tr>\n",
       "    <tr>\n",
       "      <th>50%</th>\n",
       "      <td>19.000000</td>\n",
       "    </tr>\n",
       "    <tr>\n",
       "      <th>75%</th>\n",
       "      <td>92.000000</td>\n",
       "    </tr>\n",
       "    <tr>\n",
       "      <th>max</th>\n",
       "      <td>8513.000000</td>\n",
       "    </tr>\n",
       "  </tbody>\n",
       "</table>\n",
       "</div>"
      ],
      "text/plain": [
       "       Product Reviews Count\n",
       "count             253.000000\n",
       "mean              329.920949\n",
       "std              1147.486720\n",
       "min                 0.000000\n",
       "25%                 3.000000\n",
       "50%                19.000000\n",
       "75%                92.000000\n",
       "max              8513.000000"
      ]
     },
     "execution_count": 10,
     "metadata": {},
     "output_type": "execute_result"
    }
   ],
   "source": [
    "details.describe()"
   ]
  },
  {
   "cell_type": "code",
   "execution_count": 11,
   "id": "78d2d1e5",
   "metadata": {},
   "outputs": [
    {
     "name": "stdout",
     "output_type": "stream",
     "text": [
      "<class 'pandas.core.frame.DataFrame'>\n",
      "Int64Index: 253 entries, 1 to 618\n",
      "Data columns (total 6 columns):\n",
      " #   Column                 Non-Null Count  Dtype  \n",
      "---  ------                 --------------  -----  \n",
      " 0   Product Brand          253 non-null    object \n",
      " 1   Product Category       253 non-null    object \n",
      " 2   Product Description    253 non-null    object \n",
      " 3   Product Price          253 non-null    object \n",
      " 4   Product Reviews Count  253 non-null    float64\n",
      " 5   Product Rating         253 non-null    object \n",
      "dtypes: float64(1), object(5)\n",
      "memory usage: 13.8+ KB\n"
     ]
    }
   ],
   "source": [
    "details.info()"
   ]
  },
  {
   "cell_type": "code",
   "execution_count": 12,
   "id": "83b59532",
   "metadata": {},
   "outputs": [
    {
     "name": "stderr",
     "output_type": "stream",
     "text": [
      "C:\\Users\\J.P.Monpara\\AppData\\Local\\Temp\\ipykernel_12724\\1250358212.py:1: SettingWithCopyWarning: \n",
      "A value is trying to be set on a copy of a slice from a DataFrame.\n",
      "Try using .loc[row_indexer,col_indexer] = value instead\n",
      "\n",
      "See the caveats in the documentation: https://pandas.pydata.org/pandas-docs/stable/user_guide/indexing.html#returning-a-view-versus-a-copy\n",
      "  details['Product Price']=details['Product Price'].astype('float64')\n",
      "C:\\Users\\J.P.Monpara\\AppData\\Local\\Temp\\ipykernel_12724\\1250358212.py:2: SettingWithCopyWarning: \n",
      "A value is trying to be set on a copy of a slice from a DataFrame.\n",
      "Try using .loc[row_indexer,col_indexer] = value instead\n",
      "\n",
      "See the caveats in the documentation: https://pandas.pydata.org/pandas-docs/stable/user_guide/indexing.html#returning-a-view-versus-a-copy\n",
      "  details['Product Rating']=details['Product Rating'].astype('float64')\n"
     ]
    }
   ],
   "source": [
    "details['Product Price']=details['Product Price'].astype('float64')\n",
    "details['Product Rating']=details['Product Rating'].astype('float64')"
   ]
  },
  {
   "cell_type": "code",
   "execution_count": 13,
   "id": "f6243608",
   "metadata": {},
   "outputs": [
    {
     "data": {
      "text/html": [
       "<div>\n",
       "<style scoped>\n",
       "    .dataframe tbody tr th:only-of-type {\n",
       "        vertical-align: middle;\n",
       "    }\n",
       "\n",
       "    .dataframe tbody tr th {\n",
       "        vertical-align: top;\n",
       "    }\n",
       "\n",
       "    .dataframe thead th {\n",
       "        text-align: right;\n",
       "    }\n",
       "</style>\n",
       "<table border=\"1\" class=\"dataframe\">\n",
       "  <thead>\n",
       "    <tr style=\"text-align: right;\">\n",
       "      <th></th>\n",
       "      <th>Product Brand</th>\n",
       "      <th>Product Category</th>\n",
       "      <th>Product Description</th>\n",
       "      <th>Product Price</th>\n",
       "      <th>Product Reviews Count</th>\n",
       "      <th>Product Rating</th>\n",
       "    </tr>\n",
       "  </thead>\n",
       "  <tbody>\n",
       "    <tr>\n",
       "      <th>1</th>\n",
       "      <td>L'Oreal Paris</td>\n",
       "      <td>Brand &gt; L'Oreal Paris</td>\n",
       "      <td>It's time to skip the snooze button and get up...</td>\n",
       "      <td>454.0</td>\n",
       "      <td>147.0</td>\n",
       "      <td>4.3</td>\n",
       "    </tr>\n",
       "    <tr>\n",
       "      <th>3</th>\n",
       "      <td>True Elements</td>\n",
       "      <td>Health &amp; Wellness &gt; Good for You &gt; Super Food</td>\n",
       "      <td>Sunflower has always been admired for its beau...</td>\n",
       "      <td>175.0</td>\n",
       "      <td>0.0</td>\n",
       "      <td>5.0</td>\n",
       "    </tr>\n",
       "    <tr>\n",
       "      <th>6</th>\n",
       "      <td>Nivea</td>\n",
       "      <td>Brand &gt; Nivea</td>\n",
       "      <td>Indulge in the goodness of natural oils in a f...</td>\n",
       "      <td>260.0</td>\n",
       "      <td>1220.0</td>\n",
       "      <td>4.5</td>\n",
       "    </tr>\n",
       "    <tr>\n",
       "      <th>7</th>\n",
       "      <td>Lotus Herbals</td>\n",
       "      <td>Natural &gt; Skin &gt; Face Wash</td>\n",
       "      <td>Lotus Herbals WhiteGlow Activated Charcoal Bri...</td>\n",
       "      <td>140.0</td>\n",
       "      <td>8.0</td>\n",
       "      <td>4.2</td>\n",
       "    </tr>\n",
       "    <tr>\n",
       "      <th>11</th>\n",
       "      <td>Smashbox</td>\n",
       "      <td>Makeup &gt; Face &gt; Concealer</td>\n",
       "      <td>These creamy, color-correcting sticks camoufla...</td>\n",
       "      <td>2090.0</td>\n",
       "      <td>13.0</td>\n",
       "      <td>4.1</td>\n",
       "    </tr>\n",
       "    <tr>\n",
       "      <th>13</th>\n",
       "      <td>Vaseline</td>\n",
       "      <td>Skin &gt; Body Care &gt; Lotions &amp; Creams</td>\n",
       "      <td>Explore the entire range of Lotions &amp; Creams a...</td>\n",
       "      <td>210.0</td>\n",
       "      <td>136.0</td>\n",
       "      <td>4.3</td>\n",
       "    </tr>\n",
       "    <tr>\n",
       "      <th>14</th>\n",
       "      <td>Lime Crime</td>\n",
       "      <td>Makeup &gt; Lips &gt; Liquid Lipstick</td>\n",
       "      <td>Inspired by the â€˜bloomâ€™ of rose petals, Li...</td>\n",
       "      <td>1900.0</td>\n",
       "      <td>65.0</td>\n",
       "      <td>4.6</td>\n",
       "    </tr>\n",
       "    <tr>\n",
       "      <th>16</th>\n",
       "      <td>Bobbi Brown</td>\n",
       "      <td>NFBA 2020 Nominees Online Sale</td>\n",
       "      <td>What it is:Â The look of a liquid lipstick mee...</td>\n",
       "      <td>1800.0</td>\n",
       "      <td>522.0</td>\n",
       "      <td>4.1</td>\n",
       "    </tr>\n",
       "    <tr>\n",
       "      <th>17</th>\n",
       "      <td>The Body Care</td>\n",
       "      <td>Natural &gt; Combos @ Nykaa</td>\n",
       "      <td>The Body Care Herbal Shampoo is enriched with ...</td>\n",
       "      <td>161.0</td>\n",
       "      <td>6.0</td>\n",
       "      <td>4.1</td>\n",
       "    </tr>\n",
       "    <tr>\n",
       "      <th>18</th>\n",
       "      <td>CADIVEU</td>\n",
       "      <td>Hair &gt; Shop By Concern &gt; Dry &amp; Frizzy Hair</td>\n",
       "      <td>Cadiveu Professional Brasil Cacau Brazilian Th...</td>\n",
       "      <td>7000.0</td>\n",
       "      <td>2.0</td>\n",
       "      <td>4.3</td>\n",
       "    </tr>\n",
       "  </tbody>\n",
       "</table>\n",
       "</div>"
      ],
      "text/plain": [
       "    Product Brand                               Product Category  \\\n",
       "1   L'Oreal Paris                          Brand > L'Oreal Paris   \n",
       "3   True Elements  Health & Wellness > Good for You > Super Food   \n",
       "6           Nivea                                  Brand > Nivea   \n",
       "7   Lotus Herbals                     Natural > Skin > Face Wash   \n",
       "11       Smashbox                      Makeup > Face > Concealer   \n",
       "13       Vaseline            Skin > Body Care > Lotions & Creams   \n",
       "14     Lime Crime                Makeup > Lips > Liquid Lipstick   \n",
       "16    Bobbi Brown                 NFBA 2020 Nominees Online Sale   \n",
       "17  The Body Care                       Natural > Combos @ Nykaa   \n",
       "18        CADIVEU     Hair > Shop By Concern > Dry & Frizzy Hair   \n",
       "\n",
       "                                  Product Description  Product Price  \\\n",
       "1   It's time to skip the snooze button and get up...          454.0   \n",
       "3   Sunflower has always been admired for its beau...          175.0   \n",
       "6   Indulge in the goodness of natural oils in a f...          260.0   \n",
       "7   Lotus Herbals WhiteGlow Activated Charcoal Bri...          140.0   \n",
       "11  These creamy, color-correcting sticks camoufla...         2090.0   \n",
       "13  Explore the entire range of Lotions & Creams a...          210.0   \n",
       "14  Inspired by the â€˜bloomâ€™ of rose petals, Li...         1900.0   \n",
       "16  What it is:Â The look of a liquid lipstick mee...         1800.0   \n",
       "17  The Body Care Herbal Shampoo is enriched with ...          161.0   \n",
       "18  Cadiveu Professional Brasil Cacau Brazilian Th...         7000.0   \n",
       "\n",
       "    Product Reviews Count  Product Rating  \n",
       "1                   147.0             4.3  \n",
       "3                     0.0             5.0  \n",
       "6                  1220.0             4.5  \n",
       "7                     8.0             4.2  \n",
       "11                   13.0             4.1  \n",
       "13                  136.0             4.3  \n",
       "14                   65.0             4.6  \n",
       "16                  522.0             4.1  \n",
       "17                    6.0             4.1  \n",
       "18                    2.0             4.3  "
      ]
     },
     "execution_count": 13,
     "metadata": {},
     "output_type": "execute_result"
    }
   ],
   "source": [
    "details.head(10)"
   ]
  },
  {
   "cell_type": "code",
   "execution_count": 14,
   "id": "64100501",
   "metadata": {},
   "outputs": [
    {
     "data": {
      "text/html": [
       "<div>\n",
       "<style scoped>\n",
       "    .dataframe tbody tr th:only-of-type {\n",
       "        vertical-align: middle;\n",
       "    }\n",
       "\n",
       "    .dataframe tbody tr th {\n",
       "        vertical-align: top;\n",
       "    }\n",
       "\n",
       "    .dataframe thead th {\n",
       "        text-align: right;\n",
       "    }\n",
       "</style>\n",
       "<table border=\"1\" class=\"dataframe\">\n",
       "  <thead>\n",
       "    <tr style=\"text-align: right;\">\n",
       "      <th></th>\n",
       "      <th>Product Brand</th>\n",
       "      <th>Product Category</th>\n",
       "      <th>Product Description</th>\n",
       "      <th>Product Price</th>\n",
       "      <th>Product Reviews Count</th>\n",
       "      <th>Product Rating</th>\n",
       "    </tr>\n",
       "  </thead>\n",
       "  <tbody>\n",
       "    <tr>\n",
       "      <th>600</th>\n",
       "      <td>Clean &amp; Clear</td>\n",
       "      <td>Personal Care &gt; Face &gt; Facewash</td>\n",
       "      <td>Feel lazy, sleepy and low on energy every morn...</td>\n",
       "      <td>80.0</td>\n",
       "      <td>59.0</td>\n",
       "      <td>4.6</td>\n",
       "    </tr>\n",
       "    <tr>\n",
       "      <th>602</th>\n",
       "      <td>Nivea</td>\n",
       "      <td>Brand &gt; Nivea</td>\n",
       "      <td>Indulge in the goodness of natural oils in a f...</td>\n",
       "      <td>169.0</td>\n",
       "      <td>126.0</td>\n",
       "      <td>4.4</td>\n",
       "    </tr>\n",
       "    <tr>\n",
       "      <th>603</th>\n",
       "      <td>Max Care</td>\n",
       "      <td>Skin &gt; Moisturizers &gt; Face Oils</td>\n",
       "      <td>Maxcare Virgin Coconut Oil (VCO) is pure, unre...</td>\n",
       "      <td>220.0</td>\n",
       "      <td>68.0</td>\n",
       "      <td>4.6</td>\n",
       "    </tr>\n",
       "    <tr>\n",
       "      <th>605</th>\n",
       "      <td>Himalaya</td>\n",
       "      <td>Brand &gt; Himalaya</td>\n",
       "      <td>A natural hair cream full of goodness, Himalay...</td>\n",
       "      <td>41.0</td>\n",
       "      <td>0.0</td>\n",
       "      <td>4.5</td>\n",
       "    </tr>\n",
       "    <tr>\n",
       "      <th>610</th>\n",
       "      <td>Nivea</td>\n",
       "      <td>Personal Care &gt; Hands &amp; Feet &gt; Hand Creams</td>\n",
       "      <td>Let your skin explore tropical wonders with NI...</td>\n",
       "      <td>85.0</td>\n",
       "      <td>558.0</td>\n",
       "      <td>4.4</td>\n",
       "    </tr>\n",
       "    <tr>\n",
       "      <th>612</th>\n",
       "      <td>VLCC</td>\n",
       "      <td>Natural &gt; Skin &gt; Cleanser</td>\n",
       "      <td>Add some instant glow to dull, tired and lifel...</td>\n",
       "      <td>99.0</td>\n",
       "      <td>242.0</td>\n",
       "      <td>4.2</td>\n",
       "    </tr>\n",
       "    <tr>\n",
       "      <th>613</th>\n",
       "      <td>Matrix</td>\n",
       "      <td>Personal Care &gt; Bath &amp; Shower &gt; Shampoo</td>\n",
       "      <td>Forget about de-saturated color. Matrix Biolag...</td>\n",
       "      <td>205.0</td>\n",
       "      <td>130.0</td>\n",
       "      <td>4.3</td>\n",
       "    </tr>\n",
       "    <tr>\n",
       "      <th>615</th>\n",
       "      <td>VLCC</td>\n",
       "      <td>Skin &gt; Body Care &gt; Lotions &amp; Creams</td>\n",
       "      <td>VLCC Cocoa Butter Detan Glow is enriched with ...</td>\n",
       "      <td>399.0</td>\n",
       "      <td>25.0</td>\n",
       "      <td>4.2</td>\n",
       "    </tr>\n",
       "    <tr>\n",
       "      <th>616</th>\n",
       "      <td>Physicians Formula</td>\n",
       "      <td>Makeup &gt; Face &gt; Foundation</td>\n",
       "      <td>What It Is: A long-wearing, buildable, and bre...</td>\n",
       "      <td>1200.0</td>\n",
       "      <td>19.0</td>\n",
       "      <td>4.6</td>\n",
       "    </tr>\n",
       "    <tr>\n",
       "      <th>618</th>\n",
       "      <td>Jovees</td>\n",
       "      <td>Natural &gt; Types of Skin &gt; Combination Skin</td>\n",
       "      <td>Jovees Sunscreen Fairness Lotion SPF 25 is a w...</td>\n",
       "      <td>274.0</td>\n",
       "      <td>29.0</td>\n",
       "      <td>4.5</td>\n",
       "    </tr>\n",
       "  </tbody>\n",
       "</table>\n",
       "</div>"
      ],
      "text/plain": [
       "          Product Brand                            Product Category  \\\n",
       "600       Clean & Clear             Personal Care > Face > Facewash   \n",
       "602               Nivea                               Brand > Nivea   \n",
       "603            Max Care             Skin > Moisturizers > Face Oils   \n",
       "605            Himalaya                            Brand > Himalaya   \n",
       "610               Nivea  Personal Care > Hands & Feet > Hand Creams   \n",
       "612                VLCC                   Natural > Skin > Cleanser   \n",
       "613              Matrix     Personal Care > Bath & Shower > Shampoo   \n",
       "615                VLCC         Skin > Body Care > Lotions & Creams   \n",
       "616  Physicians Formula                  Makeup > Face > Foundation   \n",
       "618              Jovees  Natural > Types of Skin > Combination Skin   \n",
       "\n",
       "                                   Product Description  Product Price  \\\n",
       "600  Feel lazy, sleepy and low on energy every morn...           80.0   \n",
       "602  Indulge in the goodness of natural oils in a f...          169.0   \n",
       "603  Maxcare Virgin Coconut Oil (VCO) is pure, unre...          220.0   \n",
       "605  A natural hair cream full of goodness, Himalay...           41.0   \n",
       "610  Let your skin explore tropical wonders with NI...           85.0   \n",
       "612  Add some instant glow to dull, tired and lifel...           99.0   \n",
       "613  Forget about de-saturated color. Matrix Biolag...          205.0   \n",
       "615  VLCC Cocoa Butter Detan Glow is enriched with ...          399.0   \n",
       "616  What It Is: A long-wearing, buildable, and bre...         1200.0   \n",
       "618  Jovees Sunscreen Fairness Lotion SPF 25 is a w...          274.0   \n",
       "\n",
       "     Product Reviews Count  Product Rating  \n",
       "600                   59.0             4.6  \n",
       "602                  126.0             4.4  \n",
       "603                   68.0             4.6  \n",
       "605                    0.0             4.5  \n",
       "610                  558.0             4.4  \n",
       "612                  242.0             4.2  \n",
       "613                  130.0             4.3  \n",
       "615                   25.0             4.2  \n",
       "616                   19.0             4.6  \n",
       "618                   29.0             4.5  "
      ]
     },
     "execution_count": 14,
     "metadata": {},
     "output_type": "execute_result"
    }
   ],
   "source": [
    "details.tail(10)"
   ]
  },
  {
   "cell_type": "code",
   "execution_count": 15,
   "id": "e73c1537",
   "metadata": {},
   "outputs": [
    {
     "data": {
      "text/plain": [
       "Product Brand             object\n",
       "Product Category          object\n",
       "Product Description       object\n",
       "Product Price            float64\n",
       "Product Reviews Count    float64\n",
       "Product Rating           float64\n",
       "dtype: object"
      ]
     },
     "execution_count": 15,
     "metadata": {},
     "output_type": "execute_result"
    }
   ],
   "source": [
    "details.dtypes"
   ]
  },
  {
   "cell_type": "code",
   "execution_count": 16,
   "id": "756cc600",
   "metadata": {},
   "outputs": [
    {
     "data": {
      "text/plain": [
       "<AxesSubplot:xlabel='Product Rating', ylabel='Product Price'>"
      ]
     },
     "execution_count": 16,
     "metadata": {},
     "output_type": "execute_result"
    },
    {
     "data": {
      "image/png": "[encoded data removed]",
      "text/plain": [
       "<Figure size 432x288 with 1 Axes>"
      ]
     },
     "metadata": {
      "needs_background": "light"
     },
     "output_type": "display_data"
    }
   ],
   "source": [
    "sns.scatterplot(x ='Product Rating', y = 'Product Price', data = details)"
   ]
  },
  {
   "cell_type": "code",
   "execution_count": null,
   "id": "f48284cd",
   "metadata": {},
   "outputs": [],
   "source": []
  },
  {
   "cell_type": "code",
   "execution_count": 17,
   "id": "01cbb9eb",
   "metadata": {},
   "outputs": [
    {
     "data": {
      "text/plain": [
       "<AxesSubplot:>"
      ]
     },
     "execution_count": 17,
     "metadata": {},
     "output_type": "execute_result"
    },
    {
     "data": {
      "image/png": "[encoded data removed]",
      "text/plain": [
       "<Figure size 432x288 with 1 Axes>"
      ]
     },
     "metadata": {
      "needs_background": "light"
     },
     "output_type": "display_data"
    }
   ],
   "source": [
    "sns.stripplot(data = details)"
   ]
  },
  {
   "cell_type": "code",
   "execution_count": 18,
   "id": "86917c8c",
   "metadata": {},
   "outputs": [
    {
     "name": "stderr",
     "output_type": "stream",
     "text": [
      "C:\\Users\\J.P.Monpara\\anaconda3\\lib\\site-packages\\seaborn\\_decorators.py:36: FutureWarning: Pass the following variables as keyword args: x, y. From version 0.12, the only valid positional argument will be `data`, and passing other arguments without an explicit keyword will result in an error or misinterpretation.\n",
      "  warnings.warn(\n"
     ]
    },
    {
     "data": {
      "text/plain": [
       "<AxesSubplot:xlabel='Product Rating', ylabel='Product Reviews Count'>"
      ]
     },
     "execution_count": 18,
     "metadata": {},
     "output_type": "execute_result"
    },
    {
     "data": {
      "image/png": "[encoded data removed]",
      "text/plain": [
       "<Figure size 432x288 with 1 Axes>"
      ]
     },
     "metadata": {
      "needs_background": "light"
     },
     "output_type": "display_data"
    }
   ],
   "source": [
    "sns.scatterplot(data['Product Rating'],data['Product Reviews Count'])"
   ]
  },
  {
   "cell_type": "code",
   "execution_count": 19,
   "id": "6585eceb",
   "metadata": {},
   "outputs": [
    {
     "data": {
      "text/html": [
       "<div>\n",
       "<style scoped>\n",
       "    .dataframe tbody tr th:only-of-type {\n",
       "        vertical-align: middle;\n",
       "    }\n",
       "\n",
       "    .dataframe tbody tr th {\n",
       "        vertical-align: top;\n",
       "    }\n",
       "\n",
       "    .dataframe thead th {\n",
       "        text-align: right;\n",
       "    }\n",
       "</style>\n",
       "<table border=\"1\" class=\"dataframe\">\n",
       "  <thead>\n",
       "    <tr style=\"text-align: right;\">\n",
       "      <th></th>\n",
       "      <th>Product Brand</th>\n",
       "      <th>Product Category</th>\n",
       "      <th>Product Description</th>\n",
       "      <th>Product Price</th>\n",
       "      <th>Product Reviews Count</th>\n",
       "      <th>Product Rating</th>\n",
       "    </tr>\n",
       "  </thead>\n",
       "  <tbody>\n",
       "    <tr>\n",
       "      <th>1</th>\n",
       "      <td>L'Oreal Paris</td>\n",
       "      <td>Brand &gt; L'Oreal Paris</td>\n",
       "      <td>It's time to skip the snooze button and get up...</td>\n",
       "      <td>454.0</td>\n",
       "      <td>147.0</td>\n",
       "      <td>4.3</td>\n",
       "    </tr>\n",
       "    <tr>\n",
       "      <th>3</th>\n",
       "      <td>True Elements</td>\n",
       "      <td>Health &amp; Wellness &gt; Good for You &gt; Super Food</td>\n",
       "      <td>Sunflower has always been admired for its beau...</td>\n",
       "      <td>175.0</td>\n",
       "      <td>0.0</td>\n",
       "      <td>5.0</td>\n",
       "    </tr>\n",
       "    <tr>\n",
       "      <th>6</th>\n",
       "      <td>Nivea</td>\n",
       "      <td>Brand &gt; Nivea</td>\n",
       "      <td>Indulge in the goodness of natural oils in a f...</td>\n",
       "      <td>260.0</td>\n",
       "      <td>1220.0</td>\n",
       "      <td>4.5</td>\n",
       "    </tr>\n",
       "    <tr>\n",
       "      <th>7</th>\n",
       "      <td>Lotus Herbals</td>\n",
       "      <td>Natural &gt; Skin &gt; Face Wash</td>\n",
       "      <td>Lotus Herbals WhiteGlow Activated Charcoal Bri...</td>\n",
       "      <td>140.0</td>\n",
       "      <td>8.0</td>\n",
       "      <td>4.2</td>\n",
       "    </tr>\n",
       "    <tr>\n",
       "      <th>11</th>\n",
       "      <td>Smashbox</td>\n",
       "      <td>Makeup &gt; Face &gt; Concealer</td>\n",
       "      <td>These creamy, color-correcting sticks camoufla...</td>\n",
       "      <td>2090.0</td>\n",
       "      <td>13.0</td>\n",
       "      <td>4.1</td>\n",
       "    </tr>\n",
       "    <tr>\n",
       "      <th>...</th>\n",
       "      <td>...</td>\n",
       "      <td>...</td>\n",
       "      <td>...</td>\n",
       "      <td>...</td>\n",
       "      <td>...</td>\n",
       "      <td>...</td>\n",
       "    </tr>\n",
       "    <tr>\n",
       "      <th>612</th>\n",
       "      <td>VLCC</td>\n",
       "      <td>Natural &gt; Skin &gt; Cleanser</td>\n",
       "      <td>Add some instant glow to dull, tired and lifel...</td>\n",
       "      <td>99.0</td>\n",
       "      <td>242.0</td>\n",
       "      <td>4.2</td>\n",
       "    </tr>\n",
       "    <tr>\n",
       "      <th>613</th>\n",
       "      <td>Matrix</td>\n",
       "      <td>Personal Care &gt; Bath &amp; Shower &gt; Shampoo</td>\n",
       "      <td>Forget about de-saturated color. Matrix Biolag...</td>\n",
       "      <td>205.0</td>\n",
       "      <td>130.0</td>\n",
       "      <td>4.3</td>\n",
       "    </tr>\n",
       "    <tr>\n",
       "      <th>615</th>\n",
       "      <td>VLCC</td>\n",
       "      <td>Skin &gt; Body Care &gt; Lotions &amp; Creams</td>\n",
       "      <td>VLCC Cocoa Butter Detan Glow is enriched with ...</td>\n",
       "      <td>399.0</td>\n",
       "      <td>25.0</td>\n",
       "      <td>4.2</td>\n",
       "    </tr>\n",
       "    <tr>\n",
       "      <th>616</th>\n",
       "      <td>Physicians Formula</td>\n",
       "      <td>Makeup &gt; Face &gt; Foundation</td>\n",
       "      <td>What It Is: A long-wearing, buildable, and bre...</td>\n",
       "      <td>1200.0</td>\n",
       "      <td>19.0</td>\n",
       "      <td>4.6</td>\n",
       "    </tr>\n",
       "    <tr>\n",
       "      <th>618</th>\n",
       "      <td>Jovees</td>\n",
       "      <td>Natural &gt; Types of Skin &gt; Combination Skin</td>\n",
       "      <td>Jovees Sunscreen Fairness Lotion SPF 25 is a w...</td>\n",
       "      <td>274.0</td>\n",
       "      <td>29.0</td>\n",
       "      <td>4.5</td>\n",
       "    </tr>\n",
       "  </tbody>\n",
       "</table>\n",
       "<p>253 rows × 6 columns</p>\n",
       "</div>"
      ],
      "text/plain": [
       "          Product Brand                               Product Category  \\\n",
       "1         L'Oreal Paris                          Brand > L'Oreal Paris   \n",
       "3         True Elements  Health & Wellness > Good for You > Super Food   \n",
       "6                 Nivea                                  Brand > Nivea   \n",
       "7         Lotus Herbals                     Natural > Skin > Face Wash   \n",
       "11             Smashbox                      Makeup > Face > Concealer   \n",
       "..                  ...                                            ...   \n",
       "612                VLCC                      Natural > Skin > Cleanser   \n",
       "613              Matrix        Personal Care > Bath & Shower > Shampoo   \n",
       "615                VLCC            Skin > Body Care > Lotions & Creams   \n",
       "616  Physicians Formula                     Makeup > Face > Foundation   \n",
       "618              Jovees     Natural > Types of Skin > Combination Skin   \n",
       "\n",
       "                                   Product Description  Product Price  \\\n",
       "1    It's time to skip the snooze button and get up...          454.0   \n",
       "3    Sunflower has always been admired for its beau...          175.0   \n",
       "6    Indulge in the goodness of natural oils in a f...          260.0   \n",
       "7    Lotus Herbals WhiteGlow Activated Charcoal Bri...          140.0   \n",
       "11   These creamy, color-correcting sticks camoufla...         2090.0   \n",
       "..                                                 ...            ...   \n",
       "612  Add some instant glow to dull, tired and lifel...           99.0   \n",
       "613  Forget about de-saturated color. Matrix Biolag...          205.0   \n",
       "615  VLCC Cocoa Butter Detan Glow is enriched with ...          399.0   \n",
       "616  What It Is: A long-wearing, buildable, and bre...         1200.0   \n",
       "618  Jovees Sunscreen Fairness Lotion SPF 25 is a w...          274.0   \n",
       "\n",
       "     Product Reviews Count  Product Rating  \n",
       "1                    147.0             4.3  \n",
       "3                      0.0             5.0  \n",
       "6                   1220.0             4.5  \n",
       "7                      8.0             4.2  \n",
       "11                    13.0             4.1  \n",
       "..                     ...             ...  \n",
       "612                  242.0             4.2  \n",
       "613                  130.0             4.3  \n",
       "615                   25.0             4.2  \n",
       "616                   19.0             4.6  \n",
       "618                   29.0             4.5  \n",
       "\n",
       "[253 rows x 6 columns]"
      ]
     },
     "execution_count": 19,
     "metadata": {},
     "output_type": "execute_result"
    }
   ],
   "source": [
    "details"
   ]
  },
  {
   "cell_type": "code",
   "execution_count": 20,
   "id": "39969e5d",
   "metadata": {},
   "outputs": [],
   "source": [
    "brand = details['Product Brand'].head(20)\n",
    "reviews = details['Product Rating'].head(20)"
   ]
  },
  {
   "cell_type": "code",
   "execution_count": 21,
   "id": "3fbacc9e",
   "metadata": {
    "scrolled": false
   },
   "outputs": [
    {
     "data": {
      "text/plain": [
       "<BarContainer object of 20 artists>"
      ]
     },
     "execution_count": 21,
     "metadata": {},
     "output_type": "execute_result"
    },
    {
     "data": {
      "image/png": "[encoded data removed]",
      "text/plain": [
       "<Figure size 1800x720 with 1 Axes>"
      ]
     },
     "metadata": {
      "needs_background": "light"
     },
     "output_type": "display_data"
    }
   ],
   "source": [
    "fig = plt.figure(figsize = (25,10))\n",
    "plt.bar(brand, reviews)"
   ]
  },
  {
   "cell_type": "markdown",
   "id": "625a2339",
   "metadata": {},
   "source": [
    "## Finding product category by one hot encoding"
   ]
  },
  {
   "cell_type": "code",
   "execution_count": 24,
   "id": "1414879b",
   "metadata": {},
   "outputs": [],
   "source": [
    "df = details\n",
    "df = pd.concat([df,pd.get_dummies(details['Product Brand'])], axis = 1)\n"
   ]
  },
  {
   "cell_type": "code",
   "execution_count": 25,
   "id": "3905d93c",
   "metadata": {},
   "outputs": [
    {
     "data": {
      "text/plain": [
       "1           L'Oreal Paris\n",
       "3           True Elements\n",
       "6                   Nivea\n",
       "7           Lotus Herbals\n",
       "11               Smashbox\n",
       "              ...        \n",
       "612                  VLCC\n",
       "613                Matrix\n",
       "615                  VLCC\n",
       "616    Physicians Formula\n",
       "618                Jovees\n",
       "Name: Product Brand, Length: 253, dtype: object"
      ]
     },
     "execution_count": 25,
     "metadata": {},
     "output_type": "execute_result"
    }
   ],
   "source": [
    "details['Product Brand']"
   ]
  },
  {
   "cell_type": "code",
   "execution_count": 26,
   "id": "f7844041",
   "metadata": {},
   "outputs": [],
   "source": [
    "# Finding number of products of each brand\n",
    "brands=[]\n",
    "for brand in details['Product Brand']:\n",
    "    brands.append(brand)\n",
    "    \n",
    "from collections import Counter\n",
    "c = Counter(brands)\n",
    "pb=[];qty=[]\n",
    "for k in c:\n",
    "    \n",
    "    pb.append(k)\n",
    "    qty.append(c.get(k))"
   ]
  },
  {
   "cell_type": "code",
   "execution_count": 27,
   "id": "b597f71d",
   "metadata": {},
   "outputs": [],
   "source": [
    "df=pd.DataFrame(\n",
    "{\"Product Brand\":pb,\n",
    " \"Qty\":qty\n",
    "})"
   ]
  },
  {
   "cell_type": "code",
   "execution_count": 28,
   "id": "27807aa0",
   "metadata": {},
   "outputs": [],
   "source": [
    "df.sort_values(by='Qty', ascending=False, inplace=True)"
   ]
  },
  {
   "cell_type": "code",
   "execution_count": 29,
   "id": "c5050e7a",
   "metadata": {
    "scrolled": true
   },
   "outputs": [
    {
     "data": {
      "text/html": [
       "<div>\n",
       "<style scoped>\n",
       "    .dataframe tbody tr th:only-of-type {\n",
       "        vertical-align: middle;\n",
       "    }\n",
       "\n",
       "    .dataframe tbody tr th {\n",
       "        vertical-align: top;\n",
       "    }\n",
       "\n",
       "    .dataframe thead th {\n",
       "        text-align: right;\n",
       "    }\n",
       "</style>\n",
       "<table border=\"1\" class=\"dataframe\">\n",
       "  <thead>\n",
       "    <tr style=\"text-align: right;\">\n",
       "      <th></th>\n",
       "      <th>Product Brand</th>\n",
       "      <th>Qty</th>\n",
       "    </tr>\n",
       "  </thead>\n",
       "  <tbody>\n",
       "    <tr>\n",
       "      <th>14</th>\n",
       "      <td>Biotique</td>\n",
       "      <td>10</td>\n",
       "    </tr>\n",
       "    <tr>\n",
       "      <th>11</th>\n",
       "      <td>Himalaya</td>\n",
       "      <td>8</td>\n",
       "    </tr>\n",
       "    <tr>\n",
       "      <th>3</th>\n",
       "      <td>Lotus Herbals</td>\n",
       "      <td>8</td>\n",
       "    </tr>\n",
       "    <tr>\n",
       "      <th>2</th>\n",
       "      <td>Nivea</td>\n",
       "      <td>7</td>\n",
       "    </tr>\n",
       "    <tr>\n",
       "      <th>26</th>\n",
       "      <td>Lakme</td>\n",
       "      <td>7</td>\n",
       "    </tr>\n",
       "    <tr>\n",
       "      <th>6</th>\n",
       "      <td>Lime Crime</td>\n",
       "      <td>7</td>\n",
       "    </tr>\n",
       "    <tr>\n",
       "      <th>27</th>\n",
       "      <td>Charlotte Tilbury</td>\n",
       "      <td>6</td>\n",
       "    </tr>\n",
       "    <tr>\n",
       "      <th>7</th>\n",
       "      <td>Bobbi Brown</td>\n",
       "      <td>6</td>\n",
       "    </tr>\n",
       "    <tr>\n",
       "      <th>30</th>\n",
       "      <td>Forest Essentials</td>\n",
       "      <td>6</td>\n",
       "    </tr>\n",
       "    <tr>\n",
       "      <th>51</th>\n",
       "      <td>Just Herbs</td>\n",
       "      <td>5</td>\n",
       "    </tr>\n",
       "    <tr>\n",
       "      <th>21</th>\n",
       "      <td>Olivia</td>\n",
       "      <td>5</td>\n",
       "    </tr>\n",
       "    <tr>\n",
       "      <th>37</th>\n",
       "      <td>Makeup Revolution</td>\n",
       "      <td>5</td>\n",
       "    </tr>\n",
       "    <tr>\n",
       "      <th>8</th>\n",
       "      <td>The Body Care</td>\n",
       "      <td>5</td>\n",
       "    </tr>\n",
       "    <tr>\n",
       "      <th>101</th>\n",
       "      <td>The Moms Co.</td>\n",
       "      <td>4</td>\n",
       "    </tr>\n",
       "    <tr>\n",
       "      <th>13</th>\n",
       "      <td>Allin Exporters</td>\n",
       "      <td>4</td>\n",
       "    </tr>\n",
       "  </tbody>\n",
       "</table>\n",
       "</div>"
      ],
      "text/plain": [
       "         Product Brand  Qty\n",
       "14            Biotique   10\n",
       "11            Himalaya    8\n",
       "3        Lotus Herbals    8\n",
       "2                Nivea    7\n",
       "26               Lakme    7\n",
       "6           Lime Crime    7\n",
       "27   Charlotte Tilbury    6\n",
       "7          Bobbi Brown    6\n",
       "30   Forest Essentials    6\n",
       "51          Just Herbs    5\n",
       "21              Olivia    5\n",
       "37   Makeup Revolution    5\n",
       "8        The Body Care    5\n",
       "101       The Moms Co.    4\n",
       "13     Allin Exporters    4"
      ]
     },
     "execution_count": 29,
     "metadata": {},
     "output_type": "execute_result"
    }
   ],
   "source": [
    "new_df=df[0:15]\n",
    "new_df"
   ]
  },
  {
   "cell_type": "code",
   "execution_count": 30,
   "id": "aabadf32",
   "metadata": {},
   "outputs": [
    {
     "data": {
      "text/plain": [
       "Text(0.5, 1.0, 'Top 10 brands')"
      ]
     },
     "execution_count": 30,
     "metadata": {},
     "output_type": "execute_result"
    },
    {
     "data": {
      "image/png": "[encoded data removed]",
      "text/plain": [
       "<Figure size 792x720 with 1 Axes>"
      ]
     },
     "metadata": {},
     "output_type": "display_data"
    }
   ],
   "source": [
    "sns.set(rc = {'figure.figsize':(11,10)}) # Controlling the size of plot\n",
    "ax=sns.pointplot(data=new_df, y='Product Brand', x='Qty')\n",
    "ax.set_title ('Top 10 brands')"
   ]
  },
  {
   "cell_type": "code",
   "execution_count": 31,
   "id": "02ffc22a",
   "metadata": {
    "scrolled": true
   },
   "outputs": [
    {
     "data": {
      "text/plain": [
       "Text(0.5, 1.0, 'Top 10 brands')"
      ]
     },
     "execution_count": 31,
     "metadata": {},
     "output_type": "execute_result"
    },
    {
     "data": {
      "image/png": "[encoded data removed]",
      "text/plain": [
       "<Figure size 792x576 with 1 Axes>"
      ]
     },
     "metadata": {},
     "output_type": "display_data"
    }
   ],
   "source": [
    "sns.set(rc = {'figure.figsize':(11,8)}) # Controlling the size of plot\n",
    "ax=sns.barplot(data=new_df, y='Product Brand', x='Qty')\n",
    "ax.set_title ('Top 10 brands') "
   ]
  },
  {
   "cell_type": "code",
   "execution_count": 32,
   "id": "3c97963c",
   "metadata": {},
   "outputs": [
    {
     "name": "stdout",
     "output_type": "stream",
     "text": [
      "      Product Brand  Product Price  Product Rating\n",
      "496     Bobbi Brown         7900.0             4.5\n",
      "388         CADIVEU         7000.0             5.0\n",
      "18          CADIVEU         7000.0             4.3\n",
      "315      L'Occitane         5800.0             4.3\n",
      "349      L'Occitane         5800.0             4.3\n",
      "..              ...            ...             ...\n",
      "24         Himalaya           44.0             4.5\n",
      "605        Himalaya           41.0             4.5\n",
      "87         Himalaya           33.0             4.2\n",
      "448           Liril           32.0             4.4\n",
      "486  Godrej Protekt           25.0             4.4\n",
      "\n",
      "[253 rows x 3 columns]\n"
     ]
    },
    {
     "name": "stderr",
     "output_type": "stream",
     "text": [
      "C:\\Users\\J.P.Monpara\\AppData\\Local\\Temp\\ipykernel_14168\\2150377502.py:2: SettingWithCopyWarning: \n",
      "A value is trying to be set on a copy of a slice from a DataFrame\n",
      "\n",
      "See the caveats in the documentation: https://pandas.pydata.org/pandas-docs/stable/user_guide/indexing.html#returning-a-view-versus-a-copy\n",
      "  df.sort_values(by=\"Product Price\",ascending = False,inplace=True )\n"
     ]
    }
   ],
   "source": [
    "df = details[['Product Brand','Product Price','Product Rating']]\n",
    "df.sort_values(by=\"Product Price\",ascending = False,inplace=True )\n",
    "print(df)"
   ]
  },
  {
   "cell_type": "code",
   "execution_count": 33,
   "id": "b2106d2f",
   "metadata": {},
   "outputs": [
    {
     "data": {
      "text/html": [
       "<div>\n",
       "<style scoped>\n",
       "    .dataframe tbody tr th:only-of-type {\n",
       "        vertical-align: middle;\n",
       "    }\n",
       "\n",
       "    .dataframe tbody tr th {\n",
       "        vertical-align: top;\n",
       "    }\n",
       "\n",
       "    .dataframe thead th {\n",
       "        text-align: right;\n",
       "    }\n",
       "</style>\n",
       "<table border=\"1\" class=\"dataframe\">\n",
       "  <thead>\n",
       "    <tr style=\"text-align: right;\">\n",
       "      <th></th>\n",
       "      <th>Product Brand</th>\n",
       "      <th>Product Price</th>\n",
       "      <th>Product Rating</th>\n",
       "    </tr>\n",
       "  </thead>\n",
       "  <tbody>\n",
       "    <tr>\n",
       "      <th>496</th>\n",
       "      <td>Bobbi Brown</td>\n",
       "      <td>7900.0</td>\n",
       "      <td>4.5</td>\n",
       "    </tr>\n",
       "    <tr>\n",
       "      <th>388</th>\n",
       "      <td>CADIVEU</td>\n",
       "      <td>7000.0</td>\n",
       "      <td>5.0</td>\n",
       "    </tr>\n",
       "    <tr>\n",
       "      <th>18</th>\n",
       "      <td>CADIVEU</td>\n",
       "      <td>7000.0</td>\n",
       "      <td>4.3</td>\n",
       "    </tr>\n",
       "    <tr>\n",
       "      <th>315</th>\n",
       "      <td>L'Occitane</td>\n",
       "      <td>5800.0</td>\n",
       "      <td>4.3</td>\n",
       "    </tr>\n",
       "    <tr>\n",
       "      <th>349</th>\n",
       "      <td>L'Occitane</td>\n",
       "      <td>5800.0</td>\n",
       "      <td>4.3</td>\n",
       "    </tr>\n",
       "    <tr>\n",
       "      <th>587</th>\n",
       "      <td>Charlotte Tilbury</td>\n",
       "      <td>5650.0</td>\n",
       "      <td>4.0</td>\n",
       "    </tr>\n",
       "    <tr>\n",
       "      <th>284</th>\n",
       "      <td>Charlotte Tilbury</td>\n",
       "      <td>4900.0</td>\n",
       "      <td>4.5</td>\n",
       "    </tr>\n",
       "    <tr>\n",
       "      <th>75</th>\n",
       "      <td>Charlotte Tilbury</td>\n",
       "      <td>4900.0</td>\n",
       "      <td>4.6</td>\n",
       "    </tr>\n",
       "    <tr>\n",
       "      <th>103</th>\n",
       "      <td>Guerlain</td>\n",
       "      <td>4775.0</td>\n",
       "      <td>4.5</td>\n",
       "    </tr>\n",
       "    <tr>\n",
       "      <th>320</th>\n",
       "      <td>Bobbi Brown</td>\n",
       "      <td>4400.0</td>\n",
       "      <td>3.9</td>\n",
       "    </tr>\n",
       "    <tr>\n",
       "      <th>514</th>\n",
       "      <td>QUINOAPLEX R3</td>\n",
       "      <td>3999.0</td>\n",
       "      <td>4.0</td>\n",
       "    </tr>\n",
       "    <tr>\n",
       "      <th>203</th>\n",
       "      <td>Bobbi Brown</td>\n",
       "      <td>3950.0</td>\n",
       "      <td>4.1</td>\n",
       "    </tr>\n",
       "    <tr>\n",
       "      <th>535</th>\n",
       "      <td>Clinique</td>\n",
       "      <td>3850.0</td>\n",
       "      <td>3.7</td>\n",
       "    </tr>\n",
       "    <tr>\n",
       "      <th>67</th>\n",
       "      <td>Charlotte Tilbury</td>\n",
       "      <td>3450.0</td>\n",
       "      <td>5.0</td>\n",
       "    </tr>\n",
       "    <tr>\n",
       "      <th>508</th>\n",
       "      <td>Guerlain</td>\n",
       "      <td>3250.0</td>\n",
       "      <td>4.5</td>\n",
       "    </tr>\n",
       "    <tr>\n",
       "      <th>47</th>\n",
       "      <td>Guerlain</td>\n",
       "      <td>3250.0</td>\n",
       "      <td>4.5</td>\n",
       "    </tr>\n",
       "    <tr>\n",
       "      <th>114</th>\n",
       "      <td>Bobbi Brown</td>\n",
       "      <td>3200.0</td>\n",
       "      <td>4.5</td>\n",
       "    </tr>\n",
       "    <tr>\n",
       "      <th>94</th>\n",
       "      <td>Charlotte Tilbury</td>\n",
       "      <td>3150.0</td>\n",
       "      <td>4.6</td>\n",
       "    </tr>\n",
       "    <tr>\n",
       "      <th>597</th>\n",
       "      <td>Kiehl's</td>\n",
       "      <td>3100.0</td>\n",
       "      <td>5.0</td>\n",
       "    </tr>\n",
       "    <tr>\n",
       "      <th>390</th>\n",
       "      <td>Forest Essentials</td>\n",
       "      <td>2875.0</td>\n",
       "      <td>3.8</td>\n",
       "    </tr>\n",
       "  </tbody>\n",
       "</table>\n",
       "</div>"
      ],
      "text/plain": [
       "         Product Brand  Product Price  Product Rating\n",
       "496        Bobbi Brown         7900.0             4.5\n",
       "388            CADIVEU         7000.0             5.0\n",
       "18             CADIVEU         7000.0             4.3\n",
       "315         L'Occitane         5800.0             4.3\n",
       "349         L'Occitane         5800.0             4.3\n",
       "587  Charlotte Tilbury         5650.0             4.0\n",
       "284  Charlotte Tilbury         4900.0             4.5\n",
       "75   Charlotte Tilbury         4900.0             4.6\n",
       "103           Guerlain         4775.0             4.5\n",
       "320        Bobbi Brown         4400.0             3.9\n",
       "514      QUINOAPLEX R3         3999.0             4.0\n",
       "203        Bobbi Brown         3950.0             4.1\n",
       "535           Clinique         3850.0             3.7\n",
       "67   Charlotte Tilbury         3450.0             5.0\n",
       "508           Guerlain         3250.0             4.5\n",
       "47            Guerlain         3250.0             4.5\n",
       "114        Bobbi Brown         3200.0             4.5\n",
       "94   Charlotte Tilbury         3150.0             4.6\n",
       "597            Kiehl's         3100.0             5.0\n",
       "390  Forest Essentials         2875.0             3.8"
      ]
     },
     "execution_count": 33,
     "metadata": {},
     "output_type": "execute_result"
    }
   ],
   "source": [
    "new_data = df[:20]\n",
    "new_data"
   ]
  },
  {
   "cell_type": "code",
   "execution_count": 35,
   "id": "fbc334a5",
   "metadata": {},
   "outputs": [
    {
     "data": {
      "text/html": [
       "<div>\n",
       "<style scoped>\n",
       "    .dataframe tbody tr th:only-of-type {\n",
       "        vertical-align: middle;\n",
       "    }\n",
       "\n",
       "    .dataframe tbody tr th {\n",
       "        vertical-align: top;\n",
       "    }\n",
       "\n",
       "    .dataframe thead th {\n",
       "        text-align: right;\n",
       "    }\n",
       "</style>\n",
       "<table border=\"1\" class=\"dataframe\">\n",
       "  <thead>\n",
       "    <tr style=\"text-align: right;\">\n",
       "      <th></th>\n",
       "      <th>Product Brand</th>\n",
       "      <th>Qty</th>\n",
       "    </tr>\n",
       "  </thead>\n",
       "  <tbody>\n",
       "    <tr>\n",
       "      <th>14</th>\n",
       "      <td>Biotique</td>\n",
       "      <td>10</td>\n",
       "    </tr>\n",
       "    <tr>\n",
       "      <th>11</th>\n",
       "      <td>Himalaya</td>\n",
       "      <td>8</td>\n",
       "    </tr>\n",
       "    <tr>\n",
       "      <th>3</th>\n",
       "      <td>Lotus Herbals</td>\n",
       "      <td>8</td>\n",
       "    </tr>\n",
       "    <tr>\n",
       "      <th>2</th>\n",
       "      <td>Nivea</td>\n",
       "      <td>7</td>\n",
       "    </tr>\n",
       "    <tr>\n",
       "      <th>26</th>\n",
       "      <td>Lakme</td>\n",
       "      <td>7</td>\n",
       "    </tr>\n",
       "    <tr>\n",
       "      <th>6</th>\n",
       "      <td>Lime Crime</td>\n",
       "      <td>7</td>\n",
       "    </tr>\n",
       "    <tr>\n",
       "      <th>27</th>\n",
       "      <td>Charlotte Tilbury</td>\n",
       "      <td>6</td>\n",
       "    </tr>\n",
       "    <tr>\n",
       "      <th>7</th>\n",
       "      <td>Bobbi Brown</td>\n",
       "      <td>6</td>\n",
       "    </tr>\n",
       "    <tr>\n",
       "      <th>30</th>\n",
       "      <td>Forest Essentials</td>\n",
       "      <td>6</td>\n",
       "    </tr>\n",
       "    <tr>\n",
       "      <th>51</th>\n",
       "      <td>Just Herbs</td>\n",
       "      <td>5</td>\n",
       "    </tr>\n",
       "    <tr>\n",
       "      <th>21</th>\n",
       "      <td>Olivia</td>\n",
       "      <td>5</td>\n",
       "    </tr>\n",
       "    <tr>\n",
       "      <th>37</th>\n",
       "      <td>Makeup Revolution</td>\n",
       "      <td>5</td>\n",
       "    </tr>\n",
       "    <tr>\n",
       "      <th>8</th>\n",
       "      <td>The Body Care</td>\n",
       "      <td>5</td>\n",
       "    </tr>\n",
       "    <tr>\n",
       "      <th>101</th>\n",
       "      <td>The Moms Co.</td>\n",
       "      <td>4</td>\n",
       "    </tr>\n",
       "    <tr>\n",
       "      <th>13</th>\n",
       "      <td>Allin Exporters</td>\n",
       "      <td>4</td>\n",
       "    </tr>\n",
       "  </tbody>\n",
       "</table>\n",
       "</div>"
      ],
      "text/plain": [
       "         Product Brand  Qty\n",
       "14            Biotique   10\n",
       "11            Himalaya    8\n",
       "3        Lotus Herbals    8\n",
       "2                Nivea    7\n",
       "26               Lakme    7\n",
       "6           Lime Crime    7\n",
       "27   Charlotte Tilbury    6\n",
       "7          Bobbi Brown    6\n",
       "30   Forest Essentials    6\n",
       "51          Just Herbs    5\n",
       "21              Olivia    5\n",
       "37   Makeup Revolution    5\n",
       "8        The Body Care    5\n",
       "101       The Moms Co.    4\n",
       "13     Allin Exporters    4"
      ]
     },
     "execution_count": 35,
     "metadata": {},
     "output_type": "execute_result"
    }
   ],
   "source": [
    "data_noduplicate = new_df.drop_duplicates(subset = ['Product Brand'])\n",
    "data_noduplicate"
   ]
  },
  {
   "cell_type": "code",
   "execution_count": null,
   "id": "4efd270d",
   "metadata": {},
   "outputs": [],
   "source": []
  },
  {
   "cell_type": "markdown",
   "id": "842850a2",
   "metadata": {},
   "source": [
    "## Finding the most costliest brand"
   ]
  },
  {
   "cell_type": "code",
   "execution_count": 38,
   "id": "a1b6121f",
   "metadata": {},
   "outputs": [
    {
     "data": {
      "text/plain": [
       "Text(0.5, 1.0, 'Most coslitest brand')"
      ]
     },
     "execution_count": 38,
     "metadata": {},
     "output_type": "execute_result"
    },
    {
     "data": {
      "image/png": "[encoded data removed]",
      "text/plain": [
       "<Figure size 1440x576 with 1 Axes>"
      ]
     },
     "metadata": {},
     "output_type": "display_data"
    }
   ],
   "source": [
    "sns.set(rc = {'figure.figsize':(20,8)})\n",
    "ax = sns.barplot(data=data_noduplicate, x=\"Product Brand\", y=\"Qty\")\n",
    "ax.set_title(\"Most coslitest brand\")"
   ]
  },
  {
   "cell_type": "code",
   "execution_count": null,
   "id": "a71f7470",
   "metadata": {},
   "outputs": [],
   "source": []
  },
  {
   "cell_type": "code",
   "execution_count": 42,
   "id": "6019ebcf",
   "metadata": {},
   "outputs": [
    {
     "data": {
      "text/plain": [
       "Text(0.5, 1.0, 'Most costliest brands')"
      ]
     },
     "execution_count": 42,
     "metadata": {},
     "output_type": "execute_result"
    },
    {
     "data": {
      "image/png": "[encoded data removed]",
      "text/plain": [
       "<Figure size 1440x576 with 1 Axes>"
      ]
     },
     "metadata": {},
     "output_type": "display_data"
    }
   ],
   "source": [
    "## Ordering by price\n",
    "sns.set(rc = {'figure.figsize':(20,8)})\n",
    "ax=sns.pointplot(data=data_noduplicate, x='Product Brand',y='Qty')\n",
    "ax.set_title(\"Most costliest brands\")\n"
   ]
  },
  {
   "cell_type": "code",
   "execution_count": null,
   "id": "29e9652c",
   "metadata": {},
   "outputs": [],
   "source": []
  },
  {
   "cell_type": "code",
   "execution_count": 22,
   "id": "ebd5bd6e",
   "metadata": {},
   "outputs": [],
   "source": [
    "correlation = details.corr()"
   ]
  },
  {
   "cell_type": "code",
   "execution_count": 24,
   "id": "5c7dc50c",
   "metadata": {},
   "outputs": [
    {
     "data": {
      "text/plain": [
       "<AxesSubplot:>"
      ]
     },
     "execution_count": 24,
     "metadata": {},
     "output_type": "execute_result"
    },
    {
     "data": {
      "image/png": "[encoded data removed]",
      "text/plain": [
       "<Figure size 576x576 with 2 Axes>"
      ]
     },
     "metadata": {
      "needs_background": "light"
     },
     "output_type": "display_data"
    }
   ],
   "source": [
    "#constructing the heatmap for correlation\n",
    "plt.figure(figsize = (8,8))\n",
    "sns.heatmap(correlation, cbar = True, square = True, fmt = '.1f', annot = True, annot_kws = {'size':8},cmap = 'Reds')"
   ]
  },
  {
   "cell_type": "code",
   "execution_count": null,
   "id": "25b1aeb2",
   "metadata": {},
   "outputs": [],
   "source": []
  },
  {
   "cell_type": "code",
   "execution_count": null,
   "id": "f8f7feb3",
   "metadata": {},
   "outputs": [],
   "source": []
  },
  {
   "cell_type": "code",
   "execution_count": null,
   "id": "af66713f",
   "metadata": {},
   "outputs": [],
   "source": []
  },
  {
   "cell_type": "markdown",
   "id": "305e4636",
   "metadata": {},
   "source": [
    "## SVM (SUPPORT VECTOR MACHINE)"
   ]
  },
  {
   "cell_type": "code",
   "execution_count": null,
   "id": "5ba4a410",
   "metadata": {},
   "outputs": [],
   "source": []
  },
  {
   "cell_type": "code",
   "execution_count": 33,
   "id": "26c0658a",
   "metadata": {},
   "outputs": [],
   "source": [
    "x = details['Product Price']\n",
    "y = details['Product Rating']"
   ]
  },
  {
   "cell_type": "code",
   "execution_count": 34,
   "id": "289100e6",
   "metadata": {},
   "outputs": [],
   "source": [
    "from sklearn.model_selection import train_test_split\n",
    "from sklearn.datasets import make_classification"
   ]
  },
  {
   "cell_type": "code",
   "execution_count": 35,
   "id": "71c4a3af",
   "metadata": {},
   "outputs": [],
   "source": [
    "x,y=make_classification(n_classes=2)\n",
    "\n",
    "x_train, x_test, y_train, y_test = train_test_split(x,y,test_size = 0.33,random_state=20)"
   ]
  },
  {
   "cell_type": "code",
   "execution_count": 36,
   "id": "e21f198c",
   "metadata": {},
   "outputs": [
    {
     "data": {
      "text/plain": [
       "67"
      ]
     },
     "execution_count": 36,
     "metadata": {},
     "output_type": "execute_result"
    }
   ],
   "source": [
    "len(x_train)"
   ]
  },
  {
   "cell_type": "code",
   "execution_count": 37,
   "id": "b301ad32",
   "metadata": {},
   "outputs": [
    {
     "data": {
      "text/plain": [
       "33"
      ]
     },
     "execution_count": 37,
     "metadata": {},
     "output_type": "execute_result"
    }
   ],
   "source": [
    "len(x_test)"
   ]
  },
  {
   "cell_type": "code",
   "execution_count": 38,
   "id": "b7f14cb1",
   "metadata": {},
   "outputs": [
    {
     "data": {
      "text/plain": [
       "33"
      ]
     },
     "execution_count": 38,
     "metadata": {},
     "output_type": "execute_result"
    }
   ],
   "source": [
    "len(y_test)"
   ]
  },
  {
   "cell_type": "code",
   "execution_count": 39,
   "id": "309156d1",
   "metadata": {},
   "outputs": [
    {
     "data": {
      "text/plain": [
       "67"
      ]
     },
     "execution_count": 39,
     "metadata": {},
     "output_type": "execute_result"
    }
   ],
   "source": [
    "len(y_train)"
   ]
  },
  {
   "cell_type": "code",
   "execution_count": 40,
   "id": "c4cb9cc1",
   "metadata": {},
   "outputs": [
    {
     "name": "stdout",
     "output_type": "stream",
     "text": [
      "[[ 1.60843032  1.72641947 -1.28103921 ...  0.29640117 -0.14637621\n",
      "  -0.68871071]\n",
      " [-0.45627786  0.34311078  1.00750157 ... -0.36864284 -1.97218938\n",
      "  -0.36173492]\n",
      " [ 3.58049554  0.38860016  1.1291137  ... -1.01718518 -0.56197359\n",
      "   0.28314719]\n",
      " ...\n",
      " [-1.75476023  0.00429391  0.66470168 ...  0.40448671 -0.29448434\n",
      "  -0.91081643]\n",
      " [ 0.07360202 -1.36977276 -0.59702781 ...  0.59670215  0.19235952\n",
      "  -0.72644381]\n",
      " [ 0.54927154  0.46730725 -0.23453247 ... -2.69978286 -0.73383784\n",
      "  -0.22224929]]\n"
     ]
    }
   ],
   "source": [
    "xxx=np.array(x_train,ndmin=2)\n",
    "print(xxx)"
   ]
  },
  {
   "cell_type": "code",
   "execution_count": 41,
   "id": "f80ae416",
   "metadata": {},
   "outputs": [
    {
     "name": "stdout",
     "output_type": "stream",
     "text": [
      "[[0 0 1 1 0 1 1 0 0 1 0 0 1 0 0 1 0 1 1 1 1 1 1 0 1 0 1 1 1 1 0 0 0 0 0 0\n",
      "  0 0 0 1 0 1 1 1 1 0 0 1 0 1 0 1 0 1 1 0 0 0 0 1 0 0 0 0 0 1 1]]\n"
     ]
    }
   ],
   "source": [
    "yyy=np.array(y_train,ndmin=2)\n",
    "print(yyy)\n",
    "traintarget = np.concatenate((y_train[:67],y_test[:20]),axis=0)\n"
   ]
  },
  {
   "cell_type": "code",
   "execution_count": 42,
   "id": "28a57e08",
   "metadata": {},
   "outputs": [
    {
     "data": {
      "text/plain": [
       "((67, 20), (33, 20), (67,), (33,))"
      ]
     },
     "execution_count": 42,
     "metadata": {},
     "output_type": "execute_result"
    }
   ],
   "source": [
    "x_train.shape, x_test.shape, y_train.shape, y_test.shape"
   ]
  },
  {
   "cell_type": "code",
   "execution_count": 43,
   "id": "960dc184",
   "metadata": {
    "scrolled": true
   },
   "outputs": [
    {
     "data": {
      "text/plain": [
       "SVC()"
      ]
     },
     "execution_count": 43,
     "metadata": {},
     "output_type": "execute_result"
    }
   ],
   "source": [
    "from sklearn.svm import SVC\n",
    "svcclassifier = SVC()\n",
    "svcclassifier.fit(x_train,y_train)"
   ]
  },
  {
   "cell_type": "code",
   "execution_count": 44,
   "id": "51860667",
   "metadata": {},
   "outputs": [],
   "source": [
    "y_pred = svcclassifier.predict(x_test)"
   ]
  },
  {
   "cell_type": "code",
   "execution_count": 45,
   "id": "45fd8051",
   "metadata": {},
   "outputs": [
    {
     "data": {
      "text/plain": [
       "array([1, 1, 0, 1, 1, 0, 0, 0, 0, 1, 1, 0, 0, 0, 1, 1, 1, 0, 1, 0, 1, 0,\n",
       "       0, 1, 0, 0, 0, 1, 1, 0, 0, 1, 1])"
      ]
     },
     "execution_count": 45,
     "metadata": {},
     "output_type": "execute_result"
    }
   ],
   "source": [
    "y_pred"
   ]
  },
  {
   "cell_type": "code",
   "execution_count": 46,
   "id": "ae9f9413",
   "metadata": {},
   "outputs": [
    {
     "data": {
      "text/plain": [
       "0.9552238805970149"
      ]
     },
     "execution_count": 46,
     "metadata": {},
     "output_type": "execute_result"
    }
   ],
   "source": [
    "svcclassifier.score(x_train,y_train)"
   ]
  },
  {
   "cell_type": "code",
   "execution_count": null,
   "id": "faccee70",
   "metadata": {},
   "outputs": [],
   "source": []
  },
  {
   "cell_type": "markdown",
   "id": "cec232d8",
   "metadata": {},
   "source": [
    "## Linear Rgression"
   ]
  },
  {
   "cell_type": "code",
   "execution_count": 48,
   "id": "a71a88c9",
   "metadata": {},
   "outputs": [
    {
     "data": {
      "text/html": [
       "<div>\n",
       "<style scoped>\n",
       "    .dataframe tbody tr th:only-of-type {\n",
       "        vertical-align: middle;\n",
       "    }\n",
       "\n",
       "    .dataframe tbody tr th {\n",
       "        vertical-align: top;\n",
       "    }\n",
       "\n",
       "    .dataframe thead th {\n",
       "        text-align: right;\n",
       "    }\n",
       "</style>\n",
       "<table border=\"1\" class=\"dataframe\">\n",
       "  <thead>\n",
       "    <tr style=\"text-align: right;\">\n",
       "      <th></th>\n",
       "      <th>Product Brand</th>\n",
       "      <th>Product Category</th>\n",
       "      <th>Product Description</th>\n",
       "      <th>Product Price</th>\n",
       "      <th>Product Reviews Count</th>\n",
       "      <th>Product Rating</th>\n",
       "    </tr>\n",
       "  </thead>\n",
       "  <tbody>\n",
       "    <tr>\n",
       "      <th>1</th>\n",
       "      <td>L'Oreal Paris</td>\n",
       "      <td>Brand &gt; L'Oreal Paris</td>\n",
       "      <td>It's time to skip the snooze button and get up...</td>\n",
       "      <td>454.0</td>\n",
       "      <td>147.0</td>\n",
       "      <td>4.3</td>\n",
       "    </tr>\n",
       "    <tr>\n",
       "      <th>3</th>\n",
       "      <td>True Elements</td>\n",
       "      <td>Health &amp; Wellness &gt; Good for You &gt; Super Food</td>\n",
       "      <td>Sunflower has always been admired for its beau...</td>\n",
       "      <td>175.0</td>\n",
       "      <td>0.0</td>\n",
       "      <td>5.0</td>\n",
       "    </tr>\n",
       "    <tr>\n",
       "      <th>6</th>\n",
       "      <td>Nivea</td>\n",
       "      <td>Brand &gt; Nivea</td>\n",
       "      <td>Indulge in the goodness of natural oils in a f...</td>\n",
       "      <td>260.0</td>\n",
       "      <td>1220.0</td>\n",
       "      <td>4.5</td>\n",
       "    </tr>\n",
       "    <tr>\n",
       "      <th>7</th>\n",
       "      <td>Lotus Herbals</td>\n",
       "      <td>Natural &gt; Skin &gt; Face Wash</td>\n",
       "      <td>Lotus Herbals WhiteGlow Activated Charcoal Bri...</td>\n",
       "      <td>140.0</td>\n",
       "      <td>8.0</td>\n",
       "      <td>4.2</td>\n",
       "    </tr>\n",
       "    <tr>\n",
       "      <th>11</th>\n",
       "      <td>Smashbox</td>\n",
       "      <td>Makeup &gt; Face &gt; Concealer</td>\n",
       "      <td>These creamy, color-correcting sticks camoufla...</td>\n",
       "      <td>2090.0</td>\n",
       "      <td>13.0</td>\n",
       "      <td>4.1</td>\n",
       "    </tr>\n",
       "    <tr>\n",
       "      <th>...</th>\n",
       "      <td>...</td>\n",
       "      <td>...</td>\n",
       "      <td>...</td>\n",
       "      <td>...</td>\n",
       "      <td>...</td>\n",
       "      <td>...</td>\n",
       "    </tr>\n",
       "    <tr>\n",
       "      <th>612</th>\n",
       "      <td>VLCC</td>\n",
       "      <td>Natural &gt; Skin &gt; Cleanser</td>\n",
       "      <td>Add some instant glow to dull, tired and lifel...</td>\n",
       "      <td>99.0</td>\n",
       "      <td>242.0</td>\n",
       "      <td>4.2</td>\n",
       "    </tr>\n",
       "    <tr>\n",
       "      <th>613</th>\n",
       "      <td>Matrix</td>\n",
       "      <td>Personal Care &gt; Bath &amp; Shower &gt; Shampoo</td>\n",
       "      <td>Forget about de-saturated color. Matrix Biolag...</td>\n",
       "      <td>205.0</td>\n",
       "      <td>130.0</td>\n",
       "      <td>4.3</td>\n",
       "    </tr>\n",
       "    <tr>\n",
       "      <th>615</th>\n",
       "      <td>VLCC</td>\n",
       "      <td>Skin &gt; Body Care &gt; Lotions &amp; Creams</td>\n",
       "      <td>VLCC Cocoa Butter Detan Glow is enriched with ...</td>\n",
       "      <td>399.0</td>\n",
       "      <td>25.0</td>\n",
       "      <td>4.2</td>\n",
       "    </tr>\n",
       "    <tr>\n",
       "      <th>616</th>\n",
       "      <td>Physicians Formula</td>\n",
       "      <td>Makeup &gt; Face &gt; Foundation</td>\n",
       "      <td>What It Is: A long-wearing, buildable, and bre...</td>\n",
       "      <td>1200.0</td>\n",
       "      <td>19.0</td>\n",
       "      <td>4.6</td>\n",
       "    </tr>\n",
       "    <tr>\n",
       "      <th>618</th>\n",
       "      <td>Jovees</td>\n",
       "      <td>Natural &gt; Types of Skin &gt; Combination Skin</td>\n",
       "      <td>Jovees Sunscreen Fairness Lotion SPF 25 is a w...</td>\n",
       "      <td>274.0</td>\n",
       "      <td>29.0</td>\n",
       "      <td>4.5</td>\n",
       "    </tr>\n",
       "  </tbody>\n",
       "</table>\n",
       "<p>253 rows × 6 columns</p>\n",
       "</div>"
      ],
      "text/plain": [
       "          Product Brand                               Product Category  \\\n",
       "1         L'Oreal Paris                          Brand > L'Oreal Paris   \n",
       "3         True Elements  Health & Wellness > Good for You > Super Food   \n",
       "6                 Nivea                                  Brand > Nivea   \n",
       "7         Lotus Herbals                     Natural > Skin > Face Wash   \n",
       "11             Smashbox                      Makeup > Face > Concealer   \n",
       "..                  ...                                            ...   \n",
       "612                VLCC                      Natural > Skin > Cleanser   \n",
       "613              Matrix        Personal Care > Bath & Shower > Shampoo   \n",
       "615                VLCC            Skin > Body Care > Lotions & Creams   \n",
       "616  Physicians Formula                     Makeup > Face > Foundation   \n",
       "618              Jovees     Natural > Types of Skin > Combination Skin   \n",
       "\n",
       "                                   Product Description  Product Price  \\\n",
       "1    It's time to skip the snooze button and get up...          454.0   \n",
       "3    Sunflower has always been admired for its beau...          175.0   \n",
       "6    Indulge in the goodness of natural oils in a f...          260.0   \n",
       "7    Lotus Herbals WhiteGlow Activated Charcoal Bri...          140.0   \n",
       "11   These creamy, color-correcting sticks camoufla...         2090.0   \n",
       "..                                                 ...            ...   \n",
       "612  Add some instant glow to dull, tired and lifel...           99.0   \n",
       "613  Forget about de-saturated color. Matrix Biolag...          205.0   \n",
       "615  VLCC Cocoa Butter Detan Glow is enriched with ...          399.0   \n",
       "616  What It Is: A long-wearing, buildable, and bre...         1200.0   \n",
       "618  Jovees Sunscreen Fairness Lotion SPF 25 is a w...          274.0   \n",
       "\n",
       "     Product Reviews Count  Product Rating  \n",
       "1                    147.0             4.3  \n",
       "3                      0.0             5.0  \n",
       "6                   1220.0             4.5  \n",
       "7                      8.0             4.2  \n",
       "11                    13.0             4.1  \n",
       "..                     ...             ...  \n",
       "612                  242.0             4.2  \n",
       "613                  130.0             4.3  \n",
       "615                   25.0             4.2  \n",
       "616                   19.0             4.6  \n",
       "618                   29.0             4.5  \n",
       "\n",
       "[253 rows x 6 columns]"
      ]
     },
     "execution_count": 48,
     "metadata": {},
     "output_type": "execute_result"
    }
   ],
   "source": [
    "details"
   ]
  },
  {
   "cell_type": "code",
   "execution_count": 49,
   "id": "b98e14e5",
   "metadata": {},
   "outputs": [],
   "source": [
    "from sklearn import linear_model"
   ]
  },
  {
   "cell_type": "code",
   "execution_count": 51,
   "id": "151412ce",
   "metadata": {},
   "outputs": [
    {
     "data": {
      "text/plain": [
       "LinearRegression()"
      ]
     },
     "execution_count": 51,
     "metadata": {},
     "output_type": "execute_result"
    }
   ],
   "source": [
    "reg = linear_model.LinearRegression()\n",
    "reg.fit(details[['Product Rating']],details['Product Price'])"
   ]
  },
  {
   "cell_type": "code",
   "execution_count": 50,
   "id": "d02acbc4",
   "metadata": {},
   "outputs": [
    {
     "name": "stderr",
     "output_type": "stream",
     "text": [
      "C:\\Users\\J.P.Monpara\\anaconda3\\lib\\site-packages\\sklearn\\base.py:450: UserWarning: X does not have valid feature names, but LinearRegression was fitted with feature names\n",
      "  warnings.warn(\n"
     ]
    },
    {
     "data": {
      "text/plain": [
       "array([983.32082592])"
      ]
     },
     "execution_count": 50,
     "metadata": {},
     "output_type": "execute_result"
    }
   ],
   "source": [
    "reg.predict([[4.5]])"
   ]
  },
  {
   "cell_type": "code",
   "execution_count": 51,
   "id": "53b7b356",
   "metadata": {},
   "outputs": [
    {
     "data": {
      "text/plain": [
       "array([331.59726374])"
      ]
     },
     "execution_count": 51,
     "metadata": {},
     "output_type": "execute_result"
    }
   ],
   "source": [
    "reg.coef_"
   ]
  },
  {
   "cell_type": "code",
   "execution_count": 52,
   "id": "b0d65b39",
   "metadata": {},
   "outputs": [
    {
     "data": {
      "text/plain": [
       "-508.8668609194149"
      ]
     },
     "execution_count": 52,
     "metadata": {},
     "output_type": "execute_result"
    }
   ],
   "source": [
    "reg.intercept_"
   ]
  },
  {
   "cell_type": "code",
   "execution_count": 53,
   "id": "74819760",
   "metadata": {},
   "outputs": [
    {
     "data": {
      "text/plain": [
       "983.3208259105852"
      ]
     },
     "execution_count": 53,
     "metadata": {},
     "output_type": "execute_result"
    }
   ],
   "source": [
    "#y = m(coef)*x(predction value)+b(intercept)\n",
    "331.59726374*4.5+-508.8668609194149"
   ]
  },
  {
   "cell_type": "code",
   "execution_count": null,
   "id": "dc3e7c9f",
   "metadata": {},
   "outputs": [],
   "source": []
  },
  {
   "cell_type": "code",
   "execution_count": null,
   "id": "50e6703b",
   "metadata": {},
   "outputs": [],
   "source": []
  },
  {
   "cell_type": "markdown",
   "id": "460fe882",
   "metadata": {},
   "source": [
    "## Random_forest_classifier"
   ]
  },
  {
   "cell_type": "code",
   "execution_count": 54,
   "id": "4788f897",
   "metadata": {
    "scrolled": true
   },
   "outputs": [
    {
     "data": {
      "text/html": [
       "<div>\n",
       "<style scoped>\n",
       "    .dataframe tbody tr th:only-of-type {\n",
       "        vertical-align: middle;\n",
       "    }\n",
       "\n",
       "    .dataframe tbody tr th {\n",
       "        vertical-align: top;\n",
       "    }\n",
       "\n",
       "    .dataframe thead th {\n",
       "        text-align: right;\n",
       "    }\n",
       "</style>\n",
       "<table border=\"1\" class=\"dataframe\">\n",
       "  <thead>\n",
       "    <tr style=\"text-align: right;\">\n",
       "      <th></th>\n",
       "      <th>Product Brand</th>\n",
       "      <th>Product Category</th>\n",
       "      <th>Product Description</th>\n",
       "      <th>Product Price</th>\n",
       "      <th>Product Reviews Count</th>\n",
       "      <th>Product Rating</th>\n",
       "    </tr>\n",
       "  </thead>\n",
       "  <tbody>\n",
       "    <tr>\n",
       "      <th>1</th>\n",
       "      <td>L'Oreal Paris</td>\n",
       "      <td>Brand &gt; L'Oreal Paris</td>\n",
       "      <td>It's time to skip the snooze button and get up...</td>\n",
       "      <td>454.0</td>\n",
       "      <td>147.0</td>\n",
       "      <td>4.3</td>\n",
       "    </tr>\n",
       "    <tr>\n",
       "      <th>3</th>\n",
       "      <td>True Elements</td>\n",
       "      <td>Health &amp; Wellness &gt; Good for You &gt; Super Food</td>\n",
       "      <td>Sunflower has always been admired for its beau...</td>\n",
       "      <td>175.0</td>\n",
       "      <td>0.0</td>\n",
       "      <td>5.0</td>\n",
       "    </tr>\n",
       "    <tr>\n",
       "      <th>6</th>\n",
       "      <td>Nivea</td>\n",
       "      <td>Brand &gt; Nivea</td>\n",
       "      <td>Indulge in the goodness of natural oils in a f...</td>\n",
       "      <td>260.0</td>\n",
       "      <td>1220.0</td>\n",
       "      <td>4.5</td>\n",
       "    </tr>\n",
       "    <tr>\n",
       "      <th>7</th>\n",
       "      <td>Lotus Herbals</td>\n",
       "      <td>Natural &gt; Skin &gt; Face Wash</td>\n",
       "      <td>Lotus Herbals WhiteGlow Activated Charcoal Bri...</td>\n",
       "      <td>140.0</td>\n",
       "      <td>8.0</td>\n",
       "      <td>4.2</td>\n",
       "    </tr>\n",
       "    <tr>\n",
       "      <th>11</th>\n",
       "      <td>Smashbox</td>\n",
       "      <td>Makeup &gt; Face &gt; Concealer</td>\n",
       "      <td>These creamy, color-correcting sticks camoufla...</td>\n",
       "      <td>2090.0</td>\n",
       "      <td>13.0</td>\n",
       "      <td>4.1</td>\n",
       "    </tr>\n",
       "    <tr>\n",
       "      <th>...</th>\n",
       "      <td>...</td>\n",
       "      <td>...</td>\n",
       "      <td>...</td>\n",
       "      <td>...</td>\n",
       "      <td>...</td>\n",
       "      <td>...</td>\n",
       "    </tr>\n",
       "    <tr>\n",
       "      <th>612</th>\n",
       "      <td>VLCC</td>\n",
       "      <td>Natural &gt; Skin &gt; Cleanser</td>\n",
       "      <td>Add some instant glow to dull, tired and lifel...</td>\n",
       "      <td>99.0</td>\n",
       "      <td>242.0</td>\n",
       "      <td>4.2</td>\n",
       "    </tr>\n",
       "    <tr>\n",
       "      <th>613</th>\n",
       "      <td>Matrix</td>\n",
       "      <td>Personal Care &gt; Bath &amp; Shower &gt; Shampoo</td>\n",
       "      <td>Forget about de-saturated color. Matrix Biolag...</td>\n",
       "      <td>205.0</td>\n",
       "      <td>130.0</td>\n",
       "      <td>4.3</td>\n",
       "    </tr>\n",
       "    <tr>\n",
       "      <th>615</th>\n",
       "      <td>VLCC</td>\n",
       "      <td>Skin &gt; Body Care &gt; Lotions &amp; Creams</td>\n",
       "      <td>VLCC Cocoa Butter Detan Glow is enriched with ...</td>\n",
       "      <td>399.0</td>\n",
       "      <td>25.0</td>\n",
       "      <td>4.2</td>\n",
       "    </tr>\n",
       "    <tr>\n",
       "      <th>616</th>\n",
       "      <td>Physicians Formula</td>\n",
       "      <td>Makeup &gt; Face &gt; Foundation</td>\n",
       "      <td>What It Is: A long-wearing, buildable, and bre...</td>\n",
       "      <td>1200.0</td>\n",
       "      <td>19.0</td>\n",
       "      <td>4.6</td>\n",
       "    </tr>\n",
       "    <tr>\n",
       "      <th>618</th>\n",
       "      <td>Jovees</td>\n",
       "      <td>Natural &gt; Types of Skin &gt; Combination Skin</td>\n",
       "      <td>Jovees Sunscreen Fairness Lotion SPF 25 is a w...</td>\n",
       "      <td>274.0</td>\n",
       "      <td>29.0</td>\n",
       "      <td>4.5</td>\n",
       "    </tr>\n",
       "  </tbody>\n",
       "</table>\n",
       "<p>253 rows × 6 columns</p>\n",
       "</div>"
      ],
      "text/plain": [
       "          Product Brand                               Product Category  \\\n",
       "1         L'Oreal Paris                          Brand > L'Oreal Paris   \n",
       "3         True Elements  Health & Wellness > Good for You > Super Food   \n",
       "6                 Nivea                                  Brand > Nivea   \n",
       "7         Lotus Herbals                     Natural > Skin > Face Wash   \n",
       "11             Smashbox                      Makeup > Face > Concealer   \n",
       "..                  ...                                            ...   \n",
       "612                VLCC                      Natural > Skin > Cleanser   \n",
       "613              Matrix        Personal Care > Bath & Shower > Shampoo   \n",
       "615                VLCC            Skin > Body Care > Lotions & Creams   \n",
       "616  Physicians Formula                     Makeup > Face > Foundation   \n",
       "618              Jovees     Natural > Types of Skin > Combination Skin   \n",
       "\n",
       "                                   Product Description  Product Price  \\\n",
       "1    It's time to skip the snooze button and get up...          454.0   \n",
       "3    Sunflower has always been admired for its beau...          175.0   \n",
       "6    Indulge in the goodness of natural oils in a f...          260.0   \n",
       "7    Lotus Herbals WhiteGlow Activated Charcoal Bri...          140.0   \n",
       "11   These creamy, color-correcting sticks camoufla...         2090.0   \n",
       "..                                                 ...            ...   \n",
       "612  Add some instant glow to dull, tired and lifel...           99.0   \n",
       "613  Forget about de-saturated color. Matrix Biolag...          205.0   \n",
       "615  VLCC Cocoa Butter Detan Glow is enriched with ...          399.0   \n",
       "616  What It Is: A long-wearing, buildable, and bre...         1200.0   \n",
       "618  Jovees Sunscreen Fairness Lotion SPF 25 is a w...          274.0   \n",
       "\n",
       "     Product Reviews Count  Product Rating  \n",
       "1                    147.0             4.3  \n",
       "3                      0.0             5.0  \n",
       "6                   1220.0             4.5  \n",
       "7                      8.0             4.2  \n",
       "11                    13.0             4.1  \n",
       "..                     ...             ...  \n",
       "612                  242.0             4.2  \n",
       "613                  130.0             4.3  \n",
       "615                   25.0             4.2  \n",
       "616                   19.0             4.6  \n",
       "618                   29.0             4.5  \n",
       "\n",
       "[253 rows x 6 columns]"
      ]
     },
     "execution_count": 54,
     "metadata": {},
     "output_type": "execute_result"
    }
   ],
   "source": [
    "details"
   ]
  },
  {
   "cell_type": "code",
   "execution_count": null,
   "id": "a6adb879",
   "metadata": {},
   "outputs": [],
   "source": []
  },
  {
   "cell_type": "code",
   "execution_count": 55,
   "id": "9b02a677",
   "metadata": {},
   "outputs": [],
   "source": [
    "from sklearn.model_selection import train_test_split\n",
    "x_train, x_test, y_train, y_test = train_test_split(x,y, test_size = 0.499)"
   ]
  },
  {
   "cell_type": "code",
   "execution_count": 56,
   "id": "f803c816",
   "metadata": {},
   "outputs": [
    {
     "data": {
      "text/plain": [
       "50"
      ]
     },
     "execution_count": 56,
     "metadata": {},
     "output_type": "execute_result"
    }
   ],
   "source": [
    "len(x_test)"
   ]
  },
  {
   "cell_type": "code",
   "execution_count": 57,
   "id": "30383185",
   "metadata": {},
   "outputs": [
    {
     "data": {
      "text/plain": [
       "50"
      ]
     },
     "execution_count": 57,
     "metadata": {},
     "output_type": "execute_result"
    }
   ],
   "source": [
    "len(x_train)"
   ]
  },
  {
   "cell_type": "code",
   "execution_count": 58,
   "id": "4d962d50",
   "metadata": {},
   "outputs": [
    {
     "data": {
      "text/plain": [
       "50"
      ]
     },
     "execution_count": 58,
     "metadata": {},
     "output_type": "execute_result"
    }
   ],
   "source": [
    "len(y_train)"
   ]
  },
  {
   "cell_type": "code",
   "execution_count": 59,
   "id": "8060ec2b",
   "metadata": {},
   "outputs": [
    {
     "data": {
      "text/plain": [
       "50"
      ]
     },
     "execution_count": 59,
     "metadata": {},
     "output_type": "execute_result"
    }
   ],
   "source": [
    "len(y_test)\n"
   ]
  },
  {
   "cell_type": "code",
   "execution_count": 60,
   "id": "743192f0",
   "metadata": {},
   "outputs": [
    {
     "data": {
      "text/plain": [
       "RandomForestClassifier()"
      ]
     },
     "execution_count": 60,
     "metadata": {},
     "output_type": "execute_result"
    }
   ],
   "source": [
    "from sklearn.ensemble import RandomForestClassifier\n",
    "model = RandomForestClassifier()\n",
    "model.fit(x_train,y_train)"
   ]
  },
  {
   "cell_type": "code",
   "execution_count": 61,
   "id": "6fbb380f",
   "metadata": {},
   "outputs": [
    {
     "data": {
      "text/plain": [
       "1.0"
      ]
     },
     "execution_count": 61,
     "metadata": {},
     "output_type": "execute_result"
    }
   ],
   "source": [
    "model.score(x_train,y_train)                                  #x_train.values.reshape(-1,1),y_train.values.reshape(-1,1)"
   ]
  },
  {
   "cell_type": "code",
   "execution_count": 62,
   "id": "b2266f20",
   "metadata": {},
   "outputs": [
    {
     "data": {
      "text/plain": [
       "RandomForestClassifier()"
      ]
     },
     "execution_count": 62,
     "metadata": {},
     "output_type": "execute_result"
    }
   ],
   "source": [
    "model.fit(x_test, y_test)"
   ]
  },
  {
   "cell_type": "code",
   "execution_count": 63,
   "id": "abe26ed8",
   "metadata": {},
   "outputs": [
    {
     "data": {
      "text/plain": [
       "1.0"
      ]
     },
     "execution_count": 63,
     "metadata": {},
     "output_type": "execute_result"
    }
   ],
   "source": [
    "model.score(x_test, y_test)"
   ]
  },
  {
   "cell_type": "code",
   "execution_count": 64,
   "id": "9d318ef8",
   "metadata": {},
   "outputs": [
    {
     "data": {
      "text/plain": [
       "<bound method ForestClassifier.predict of RandomForestClassifier()>"
      ]
     },
     "execution_count": 64,
     "metadata": {},
     "output_type": "execute_result"
    }
   ],
   "source": [
    "model.predict"
   ]
  },
  {
   "cell_type": "code",
   "execution_count": 65,
   "id": "da885b31",
   "metadata": {
    "scrolled": true
   },
   "outputs": [
    {
     "data": {
      "text/plain": [
       "array([1, 0, 0, 0, 0, 0, 0, 0, 1, 0, 0, 0, 1, 1, 1, 0, 0, 0, 0, 1, 0, 0,\n",
       "       1, 1, 1, 0, 1, 0, 0, 0, 1, 0, 0, 1, 1, 0, 0, 0, 1, 0, 0, 0, 1, 1,\n",
       "       1, 1, 1, 1, 1, 0])"
      ]
     },
     "execution_count": 65,
     "metadata": {},
     "output_type": "execute_result"
    }
   ],
   "source": [
    "model.predict(x_test)"
   ]
  },
  {
   "cell_type": "code",
   "execution_count": 66,
   "id": "9dd49386",
   "metadata": {},
   "outputs": [
    {
     "data": {
      "text/plain": [
       "array([1, 0, 0, 0, 0, 0, 0, 0, 1, 0, 0, 0, 1, 1, 1, 0, 0, 0, 0, 1, 0, 0,\n",
       "       1, 1, 1, 0, 1, 0, 0, 0, 1, 0, 0, 1, 1, 0, 0, 0, 1, 0, 0, 0, 1, 1,\n",
       "       1, 1, 1, 1, 1, 0])"
      ]
     },
     "execution_count": 66,
     "metadata": {},
     "output_type": "execute_result"
    }
   ],
   "source": [
    "y_predicted = model.predict(x_test)\n",
    "y_predicted"
   ]
  },
  {
   "cell_type": "code",
   "execution_count": 67,
   "id": "7fea89e0",
   "metadata": {},
   "outputs": [
    {
     "data": {
      "text/plain": [
       "array([[29,  0],\n",
       "       [ 0, 21]], dtype=int64)"
      ]
     },
     "execution_count": 67,
     "metadata": {},
     "output_type": "execute_result"
    }
   ],
   "source": [
    "from sklearn.metrics import confusion_matrix\n",
    "cm = confusion_matrix(y_test,y_predicted)\n",
    "cm"
   ]
  },
  {
   "cell_type": "code",
   "execution_count": 84,
   "id": "7fbef1be",
   "metadata": {},
   "outputs": [
    {
     "data": {
      "text/plain": [
       "Text(66.5, 0.5, 'Truth')"
      ]
     },
     "execution_count": 84,
     "metadata": {},
     "output_type": "execute_result"
    },
    {
     "data": {
      "image/png": "[encoded data removed]",
      "text/plain": [
       "<Figure size 720x432 with 2 Axes>"
      ]
     },
     "metadata": {
      "needs_background": "light"
     },
     "output_type": "display_data"
    }
   ],
   "source": [
    "%matplotlib inline\n",
    "import matplotlib.pyplot as plt\n",
    "import seaborn as sns\n",
    "plt.figure(figsize=(10,6))\n",
    "sns.heatmap(cm,annot=True)\n",
    "plt.xlabel('predicted')\n",
    "plt.ylabel('Truth')"
   ]
  },
  {
   "cell_type": "code",
   "execution_count": null,
   "id": "e62cc791",
   "metadata": {},
   "outputs": [],
   "source": []
  },
  {
   "cell_type": "markdown",
   "id": "c882e7f4",
   "metadata": {},
   "source": [
    "## Decision tree"
   ]
  },
  {
   "cell_type": "code",
   "execution_count": null,
   "id": "fbb6f8c5",
   "metadata": {},
   "outputs": [],
   "source": []
  },
  {
   "cell_type": "code",
   "execution_count": 69,
   "id": "324aa30b",
   "metadata": {},
   "outputs": [],
   "source": [
    "from sklearn.model_selection import train_test_split\n",
    "x_train, x_test, y_train, y_test = train_test_split(x,y, test_size = 0.499)\n"
   ]
  },
  {
   "cell_type": "code",
   "execution_count": 70,
   "id": "ea2ab8da",
   "metadata": {},
   "outputs": [],
   "source": [
    "from sklearn import tree"
   ]
  },
  {
   "cell_type": "code",
   "execution_count": 71,
   "id": "4e2c21fd",
   "metadata": {},
   "outputs": [],
   "source": [
    "model = tree.DecisionTreeClassifier()"
   ]
  },
  {
   "cell_type": "code",
   "execution_count": 72,
   "id": "7987affc",
   "metadata": {},
   "outputs": [
    {
     "data": {
      "text/plain": [
       "DecisionTreeClassifier()"
      ]
     },
     "execution_count": 72,
     "metadata": {},
     "output_type": "execute_result"
    }
   ],
   "source": [
    "model.fit(x_train, y_train)"
   ]
  },
  {
   "cell_type": "code",
   "execution_count": 73,
   "id": "89654d36",
   "metadata": {},
   "outputs": [
    {
     "data": {
      "text/plain": [
       "1.0"
      ]
     },
     "execution_count": 73,
     "metadata": {},
     "output_type": "execute_result"
    }
   ],
   "source": [
    "model.score(x_train, y_train)"
   ]
  },
  {
   "cell_type": "code",
   "execution_count": 74,
   "id": "67e405f6",
   "metadata": {},
   "outputs": [
    {
     "data": {
      "text/plain": [
       "DecisionTreeClassifier()"
      ]
     },
     "execution_count": 74,
     "metadata": {},
     "output_type": "execute_result"
    }
   ],
   "source": [
    "model.fit(x_test, y_test)"
   ]
  },
  {
   "cell_type": "code",
   "execution_count": 75,
   "id": "6fb487c2",
   "metadata": {},
   "outputs": [
    {
     "data": {
      "text/plain": [
       "1.0"
      ]
     },
     "execution_count": 75,
     "metadata": {},
     "output_type": "execute_result"
    }
   ],
   "source": [
    "model.score(x_test, y_test)"
   ]
  },
  {
   "cell_type": "code",
   "execution_count": 76,
   "id": "609111d7",
   "metadata": {},
   "outputs": [
    {
     "data": {
      "text/plain": [
       "array([0, 0, 1, 1, 1, 0, 0, 0, 0, 0, 1, 0, 1, 1, 0, 1, 0, 0, 0, 1, 1, 0,\n",
       "       1, 1, 1, 0, 0, 1, 0, 1, 1, 1, 1, 1, 1, 1, 1, 0, 1, 0, 1, 0, 0, 0,\n",
       "       0, 0, 1, 1, 1, 0])"
      ]
     },
     "execution_count": 76,
     "metadata": {},
     "output_type": "execute_result"
    }
   ],
   "source": [
    "model.predict(x_test)"
   ]
  },
  {
   "cell_type": "code",
   "execution_count": null,
   "id": "e50cdba2",
   "metadata": {},
   "outputs": [],
   "source": []
  },
  {
   "cell_type": "markdown",
   "id": "e58c8b70",
   "metadata": {},
   "source": [
    "## Logistic regression"
   ]
  },
  {
   "cell_type": "code",
   "execution_count": null,
   "id": "19c6a4b5",
   "metadata": {},
   "outputs": [],
   "source": []
  },
  {
   "cell_type": "code",
   "execution_count": 77,
   "id": "f5319398",
   "metadata": {},
   "outputs": [],
   "source": [
    "from sklearn.model_selection import train_test_split\n",
    "x_train, x_test, y_train, y_test = train_test_split(x,y, test_size = 0.01)\n"
   ]
  },
  {
   "cell_type": "code",
   "execution_count": 78,
   "id": "a5d5ed4e",
   "metadata": {},
   "outputs": [],
   "source": [
    "from sklearn.linear_model import LogisticRegression "
   ]
  },
  {
   "cell_type": "code",
   "execution_count": 79,
   "id": "4e7465ac",
   "metadata": {},
   "outputs": [
    {
     "data": {
      "text/plain": [
       "LogisticRegression()"
      ]
     },
     "execution_count": 79,
     "metadata": {},
     "output_type": "execute_result"
    }
   ],
   "source": [
    "log=LogisticRegression()\n",
    "log.fit(x_train,y_train)                 #(x_train.values.reshape(-1,1),y_train)"
   ]
  },
  {
   "cell_type": "code",
   "execution_count": 80,
   "id": "0d183cd9",
   "metadata": {},
   "outputs": [
    {
     "data": {
      "text/plain": [
       "0.8787878787878788"
      ]
     },
     "execution_count": 80,
     "metadata": {},
     "output_type": "execute_result"
    }
   ],
   "source": [
    "log.score(x_train,y_train)"
   ]
  },
  {
   "cell_type": "code",
   "execution_count": null,
   "id": "5851259a",
   "metadata": {},
   "outputs": [],
   "source": []
  },
  {
   "cell_type": "code",
   "execution_count": null,
   "id": "ce5a87b5",
   "metadata": {},
   "outputs": [],
   "source": []
  },
  {
   "cell_type": "code",
   "execution_count": null,
   "id": "9ee7e469",
   "metadata": {},
   "outputs": [],
   "source": []
  },
  {
   "cell_type": "code",
   "execution_count": null,
   "id": "87cd5655",
   "metadata": {},
   "outputs": [],
   "source": []
  },
  {
   "cell_type": "markdown",
   "id": "39cc6a54",
   "metadata": {},
   "source": [
    "## Random forest regressor"
   ]
  },
  {
   "cell_type": "code",
   "execution_count": null,
   "id": "99cf7571",
   "metadata": {},
   "outputs": [],
   "source": []
  },
  {
   "cell_type": "code",
   "execution_count": 92,
   "id": "fd7f1ed4",
   "metadata": {},
   "outputs": [],
   "source": [
    "from sklearn.ensemble import RandomForestRegressor\n",
    "x_train, x_test, y_train, y_test = train_test_split(x,y, test_size = 0.10)"
   ]
  },
  {
   "cell_type": "code",
   "execution_count": 93,
   "id": "c0a1fc2c",
   "metadata": {},
   "outputs": [],
   "source": [
    "rf= RandomForestRegressor()"
   ]
  },
  {
   "cell_type": "code",
   "execution_count": 94,
   "id": "03754ea5",
   "metadata": {},
   "outputs": [
    {
     "data": {
      "text/plain": [
       "RandomForestRegressor()"
      ]
     },
     "execution_count": 94,
     "metadata": {},
     "output_type": "execute_result"
    }
   ],
   "source": [
    "rf.fit(x_train,y_train)"
   ]
  },
  {
   "cell_type": "code",
   "execution_count": 95,
   "id": "f0690440",
   "metadata": {},
   "outputs": [
    {
     "data": {
      "text/plain": [
       "0.901564723320158"
      ]
     },
     "execution_count": 95,
     "metadata": {},
     "output_type": "execute_result"
    }
   ],
   "source": [
    "rf.score(x_train,y_train)"
   ]
  },
  {
   "cell_type": "code",
   "execution_count": 96,
   "id": "f46c4976",
   "metadata": {},
   "outputs": [
    {
     "data": {
      "text/plain": [
       "RandomForestRegressor()"
      ]
     },
     "execution_count": 96,
     "metadata": {},
     "output_type": "execute_result"
    }
   ],
   "source": [
    "rf.fit(x_test, y_test)"
   ]
  },
  {
   "cell_type": "code",
   "execution_count": 97,
   "id": "e0bb5125",
   "metadata": {},
   "outputs": [
    {
     "data": {
      "text/plain": [
       "0.9214"
      ]
     },
     "execution_count": 97,
     "metadata": {},
     "output_type": "execute_result"
    }
   ],
   "source": [
    "rf.score(x_test, y_test)"
   ]
  },
  {
   "cell_type": "code",
   "execution_count": 98,
   "id": "83dbbf9c",
   "metadata": {},
   "outputs": [
    {
     "data": {
      "text/plain": [
       "array([0.89, 0.29, 0.05, 0.1 , 0.9 , 0.08, 0.95, 0.86, 0.18, 0.87])"
      ]
     },
     "execution_count": 98,
     "metadata": {},
     "output_type": "execute_result"
    }
   ],
   "source": [
    "rf.predict(x_test)"
   ]
  },
  {
   "cell_type": "code",
   "execution_count": 108,
   "id": "1d6a02aa",
   "metadata": {},
   "outputs": [
    {
     "data": {
      "text/plain": [
       "array([0.89, 0.29, 0.05, 0.1 , 0.9 , 0.08, 0.95, 0.86, 0.18, 0.87])"
      ]
     },
     "execution_count": 108,
     "metadata": {},
     "output_type": "execute_result"
    }
   ],
   "source": [
    "x_pred = rf.predict(x_test)\n",
    "x_pred"
   ]
  },
  {
   "cell_type": "code",
   "execution_count": null,
   "id": "31ebe66b",
   "metadata": {},
   "outputs": [],
   "source": []
  }
 ],
 "metadata": {
  "kernelspec": {
   "display_name": "Python 3 (ipykernel)",
   "language": "python",
   "name": "python3"
  },
  "language_info": {
   "codemirror_mode": {
    "name": "ipython",
    "version": 3
   },
   "file_extension": ".py",
   "mimetype": "text/x-python",
   "name": "python",
   "nbconvert_exporter": "python",
   "pygments_lexer": "ipython3",
   "version": "3.9.12"
  }
 },
 "nbformat": 4,
 "nbformat_minor": 5
}
